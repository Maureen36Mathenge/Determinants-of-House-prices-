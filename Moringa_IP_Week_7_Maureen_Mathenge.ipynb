{
  "nbformat": 4,
  "nbformat_minor": 0,
  "metadata": {
    "colab": {
      "name": "Moringa_IP_Week_7_Maureen_Mathenge",
      "provenance": [],
      "collapsed_sections": [],
      "toc_visible": true,
      "authorship_tag": "ABX9TyMt8bM0+uDeaYfrbvMwuIlR",
      "include_colab_link": true
    },
    "kernelspec": {
      "name": "python3",
      "display_name": "Python 3"
    }
  },
  "cells": [
    {
      "cell_type": "markdown",
      "metadata": {
        "id": "view-in-github",
        "colab_type": "text"
      },
      "source": [
        "<a href=\"https://colab.research.google.com/github/Maureen36Mathenge/Determinants-of-House-prices-/blob/master/Moringa_IP_Week_7_Maureen_Mathenge.ipynb\" target=\"_parent\"><img src=\"https://colab.research.google.com/assets/colab-badge.svg\" alt=\"Open In Colab\"/></a>"
      ]
    },
    {
      "cell_type": "markdown",
      "metadata": {
        "id": "L_vqEWr-eigM",
        "colab_type": "text"
      },
      "source": [
        "#Define the Question \n",
        "\n",
        "Study factors that affect houses prices\n",
        "Create a model that will predict future prices \n",
        "#Metric of Success\n",
        "\n",
        "Getting a model that has a high accuracy\n",
        "\n",
        "#Context\n",
        "\n",
        "Currently in Kenya, house price has become relatively expensive.This is as a result to increase in  land.However,there are other factors that make housing expensive,Luxury.A house that has many bedrooms,bathrooms are highly priced.The views of the houses could lead to an increase as well as the neighbourhood you are living in.\n",
        "The more secure,accessible and luxurious the house is the more valuable the house will get \n",
        "\n",
        "\n",
        "#Experimental design\n",
        "1.#Business Understanding \n",
        "\n",
        "**Objectives**\n",
        "1. Increase the sales for the houses hence improving profits \n",
        "2. Know the target customers for certain houses characteristcs\n",
        "\n",
        "2.Data Understanding\n",
        "3.Data Preparation\n",
        "4.Modelling\n",
        "5.Evaluation\n",
        "6.Deployment\n"
      ]
    },
    {
      "cell_type": "markdown",
      "metadata": {
        "id": "wyCFRrMXc8iG",
        "colab_type": "text"
      },
      "source": [
        "#Import Libraries"
      ]
    },
    {
      "cell_type": "code",
      "metadata": {
        "id": "gJCtW4jJcinD",
        "colab_type": "code",
        "colab": {}
      },
      "source": [
        "import pandas as pd\n",
        "import numpy as np\n",
        "pd.set_option('display.float_format', lambda x: '%.3f' % x)\n",
        "from matplotlib import pyplot as plt\n",
        "import seaborn as sns\n",
        "import matplotlib.pyplot as plt\n",
        "\n",
        " #Modelling\n",
        "from sklearn.model_selection import train_test_split\n",
        "from sklearn.preprocessing import StandardScaler\n",
        "from sklearn.decomposition import PCA\n",
        "from sklearn.linear_model import LinearRegression\n",
        "from sklearn import metrics\n",
        "import scipy as sp\n",
        "from sklearn.linear_model import Lasso\n",
        "from sklearn.datasets import load_boston\n",
        "from sklearn import linear_model\n",
        "from sklearn.metrics import mean_squared_error\n",
        "from sklearn.model_selection import GridSearchCV\n",
        "import warnings\n",
        "warnings.filterwarnings(\"ignore\")\n",
        "from sklearn.linear_model import Ridge\n",
        "import statsmodels.formula.api as smf\n",
        "from sklearn.metrics import r2_score\n",
        "from sklearn.metrics import accuracy_score\n",
        "from sklearn.linear_model import ElasticNet\n"
      ],
      "execution_count": 0,
      "outputs": []
    },
    {
      "cell_type": "markdown",
      "metadata": {
        "id": "uScmnSCzeKYF",
        "colab_type": "text"
      },
      "source": [
        "#Upload the dataset "
      ]
    },
    {
      "cell_type": "code",
      "metadata": {
        "id": "5d23_5aVeH2J",
        "colab_type": "code",
        "outputId": "854c0b83-efed-40e0-b04d-1a068fc613fa",
        "colab": {
          "base_uri": "https://localhost:8080/",
          "height": 224
        }
      },
      "source": [
        "df =  pd.read_csv(\"http://bit.ly/IndependentProjectWeek7Dataset\")\n",
        "df.head()"
      ],
      "execution_count": 182,
      "outputs": [
        {
          "output_type": "execute_result",
          "data": {
            "text/html": [
              "<div>\n",
              "<style scoped>\n",
              "    .dataframe tbody tr th:only-of-type {\n",
              "        vertical-align: middle;\n",
              "    }\n",
              "\n",
              "    .dataframe tbody tr th {\n",
              "        vertical-align: top;\n",
              "    }\n",
              "\n",
              "    .dataframe thead th {\n",
              "        text-align: right;\n",
              "    }\n",
              "</style>\n",
              "<table border=\"1\" class=\"dataframe\">\n",
              "  <thead>\n",
              "    <tr style=\"text-align: right;\">\n",
              "      <th></th>\n",
              "      <th>id</th>\n",
              "      <th>price</th>\n",
              "      <th>bedrooms</th>\n",
              "      <th>bathrooms</th>\n",
              "      <th>sqft_living</th>\n",
              "      <th>sqft_lot</th>\n",
              "      <th>floors</th>\n",
              "      <th>waterfront</th>\n",
              "      <th>view</th>\n",
              "      <th>condition</th>\n",
              "      <th>grade</th>\n",
              "      <th>sqft_above</th>\n",
              "      <th>sqft_basement</th>\n",
              "      <th>yr_built</th>\n",
              "      <th>yr_renovated</th>\n",
              "      <th>zipcode</th>\n",
              "      <th>lat</th>\n",
              "      <th>long</th>\n",
              "      <th>sqft_living15</th>\n",
              "      <th>sqft_lot15</th>\n",
              "    </tr>\n",
              "  </thead>\n",
              "  <tbody>\n",
              "    <tr>\n",
              "      <th>0</th>\n",
              "      <td>7129300520</td>\n",
              "      <td>221900.000</td>\n",
              "      <td>3</td>\n",
              "      <td>1.000</td>\n",
              "      <td>1180</td>\n",
              "      <td>5650</td>\n",
              "      <td>1.000</td>\n",
              "      <td>0</td>\n",
              "      <td>0</td>\n",
              "      <td>3</td>\n",
              "      <td>7</td>\n",
              "      <td>1180</td>\n",
              "      <td>0</td>\n",
              "      <td>1955</td>\n",
              "      <td>0</td>\n",
              "      <td>98178</td>\n",
              "      <td>47.511</td>\n",
              "      <td>-122.257</td>\n",
              "      <td>1340</td>\n",
              "      <td>5650</td>\n",
              "    </tr>\n",
              "    <tr>\n",
              "      <th>1</th>\n",
              "      <td>6414100192</td>\n",
              "      <td>538000.000</td>\n",
              "      <td>3</td>\n",
              "      <td>2.250</td>\n",
              "      <td>2570</td>\n",
              "      <td>7242</td>\n",
              "      <td>2.000</td>\n",
              "      <td>0</td>\n",
              "      <td>0</td>\n",
              "      <td>3</td>\n",
              "      <td>7</td>\n",
              "      <td>2170</td>\n",
              "      <td>400</td>\n",
              "      <td>1951</td>\n",
              "      <td>1991</td>\n",
              "      <td>98125</td>\n",
              "      <td>47.721</td>\n",
              "      <td>-122.319</td>\n",
              "      <td>1690</td>\n",
              "      <td>7639</td>\n",
              "    </tr>\n",
              "    <tr>\n",
              "      <th>2</th>\n",
              "      <td>5631500400</td>\n",
              "      <td>180000.000</td>\n",
              "      <td>2</td>\n",
              "      <td>1.000</td>\n",
              "      <td>770</td>\n",
              "      <td>10000</td>\n",
              "      <td>1.000</td>\n",
              "      <td>0</td>\n",
              "      <td>0</td>\n",
              "      <td>3</td>\n",
              "      <td>6</td>\n",
              "      <td>770</td>\n",
              "      <td>0</td>\n",
              "      <td>1933</td>\n",
              "      <td>0</td>\n",
              "      <td>98028</td>\n",
              "      <td>47.738</td>\n",
              "      <td>-122.233</td>\n",
              "      <td>2720</td>\n",
              "      <td>8062</td>\n",
              "    </tr>\n",
              "    <tr>\n",
              "      <th>3</th>\n",
              "      <td>2487200875</td>\n",
              "      <td>604000.000</td>\n",
              "      <td>4</td>\n",
              "      <td>3.000</td>\n",
              "      <td>1960</td>\n",
              "      <td>5000</td>\n",
              "      <td>1.000</td>\n",
              "      <td>0</td>\n",
              "      <td>0</td>\n",
              "      <td>5</td>\n",
              "      <td>7</td>\n",
              "      <td>1050</td>\n",
              "      <td>910</td>\n",
              "      <td>1965</td>\n",
              "      <td>0</td>\n",
              "      <td>98136</td>\n",
              "      <td>47.521</td>\n",
              "      <td>-122.393</td>\n",
              "      <td>1360</td>\n",
              "      <td>5000</td>\n",
              "    </tr>\n",
              "    <tr>\n",
              "      <th>4</th>\n",
              "      <td>1954400510</td>\n",
              "      <td>510000.000</td>\n",
              "      <td>3</td>\n",
              "      <td>2.000</td>\n",
              "      <td>1680</td>\n",
              "      <td>8080</td>\n",
              "      <td>1.000</td>\n",
              "      <td>0</td>\n",
              "      <td>0</td>\n",
              "      <td>3</td>\n",
              "      <td>8</td>\n",
              "      <td>1680</td>\n",
              "      <td>0</td>\n",
              "      <td>1987</td>\n",
              "      <td>0</td>\n",
              "      <td>98074</td>\n",
              "      <td>47.617</td>\n",
              "      <td>-122.045</td>\n",
              "      <td>1800</td>\n",
              "      <td>7503</td>\n",
              "    </tr>\n",
              "  </tbody>\n",
              "</table>\n",
              "</div>"
            ],
            "text/plain": [
              "           id      price  bedrooms  ...     long  sqft_living15  sqft_lot15\n",
              "0  7129300520 221900.000         3  ... -122.257           1340        5650\n",
              "1  6414100192 538000.000         3  ... -122.319           1690        7639\n",
              "2  5631500400 180000.000         2  ... -122.233           2720        8062\n",
              "3  2487200875 604000.000         4  ... -122.393           1360        5000\n",
              "4  1954400510 510000.000         3  ... -122.045           1800        7503\n",
              "\n",
              "[5 rows x 20 columns]"
            ]
          },
          "metadata": {
            "tags": []
          },
          "execution_count": 182
        }
      ]
    },
    {
      "cell_type": "code",
      "metadata": {
        "id": "3Jf89gnTjaKa",
        "colab_type": "code",
        "outputId": "e12c8a1a-49ef-4e0c-e71b-97253bbb7e1d",
        "colab": {
          "base_uri": "https://localhost:8080/",
          "height": 34
        }
      },
      "source": [
        "df.condition.unique()"
      ],
      "execution_count": 183,
      "outputs": [
        {
          "output_type": "execute_result",
          "data": {
            "text/plain": [
              "array([3, 5, 4, 1, 2])"
            ]
          },
          "metadata": {
            "tags": []
          },
          "execution_count": 183
        }
      ]
    },
    {
      "cell_type": "markdown",
      "metadata": {
        "id": "yc7wRhQRE0GV",
        "colab_type": "text"
      },
      "source": [
        "I check to have a rough idea on the column \"condition\"\n",
        "5-the house is expensive meaning its it is of good condition\n",
        "1-the condition is poor"
      ]
    },
    {
      "cell_type": "code",
      "metadata": {
        "id": "mFf_bGJeh8jQ",
        "colab_type": "code",
        "outputId": "0e87a936-8662-41b9-b27c-4b5054f4e7a4",
        "colab": {
          "base_uri": "https://localhost:8080/",
          "height": 34
        }
      },
      "source": [
        "#Let figure the number of columns we are working with \n",
        "df.shape"
      ],
      "execution_count": 184,
      "outputs": [
        {
          "output_type": "execute_result",
          "data": {
            "text/plain": [
              "(21613, 20)"
            ]
          },
          "metadata": {
            "tags": []
          },
          "execution_count": 184
        }
      ]
    },
    {
      "cell_type": "markdown",
      "metadata": {
        "id": "bL5eH1usiIzx",
        "colab_type": "text"
      },
      "source": [
        "We have 21613 rows and 20 columns"
      ]
    },
    {
      "cell_type": "code",
      "metadata": {
        "id": "zPvQamgbhvbj",
        "colab_type": "code",
        "outputId": "2fef799a-6c5a-4ea3-d256-844708992ed1",
        "colab": {
          "base_uri": "https://localhost:8080/",
          "height": 374
        }
      },
      "source": [
        "#Get the data types for all the columns\n",
        "df.dtypes"
      ],
      "execution_count": 185,
      "outputs": [
        {
          "output_type": "execute_result",
          "data": {
            "text/plain": [
              "id                 int64\n",
              "price            float64\n",
              "bedrooms           int64\n",
              "bathrooms        float64\n",
              "sqft_living        int64\n",
              "sqft_lot           int64\n",
              "floors           float64\n",
              "waterfront         int64\n",
              "view               int64\n",
              "condition          int64\n",
              "grade              int64\n",
              "sqft_above         int64\n",
              "sqft_basement      int64\n",
              "yr_built           int64\n",
              "yr_renovated       int64\n",
              "zipcode            int64\n",
              "lat              float64\n",
              "long             float64\n",
              "sqft_living15      int64\n",
              "sqft_lot15         int64\n",
              "dtype: object"
            ]
          },
          "metadata": {
            "tags": []
          },
          "execution_count": 185
        }
      ]
    },
    {
      "cell_type": "markdown",
      "metadata": {
        "id": "HYWX92qykyno",
        "colab_type": "text"
      },
      "source": [
        "#Data Cleaning \n",
        "For the sake of modelling and just ethical principles of working we clean data,we shall take several steps to check how clean or data is\n"
      ]
    },
    {
      "cell_type": "markdown",
      "metadata": {
        "id": "UC6eNQXrvz71",
        "colab_type": "text"
      },
      "source": [
        "##1.Validity"
      ]
    },
    {
      "cell_type": "code",
      "metadata": {
        "id": "TLXVjHYFjExT",
        "colab_type": "code",
        "colab": {}
      },
      "source": [
        "#create a function that can pass any dataframe\n",
        "def plot_boxplots(target_dataframe,col_names):\n",
        "    fig, ax = plt.subplots(len(col_names), figsize=(10,80))\n",
        "    for i, column_name in enumerate(col_names):\n",
        "        sns.boxplot(y=target_dataframe[column_name], ax=ax[i])\n",
        "        ax[i].set_title('Box plot - {}'.format(column_name), fontsize=10)\n",
        "        ax[i].set_xlabel(column_name, fontsize=8)\n",
        "    plt.show()"
      ],
      "execution_count": 0,
      "outputs": []
    },
    {
      "cell_type": "code",
      "metadata": {
        "id": "xPpGKDKRjUgP",
        "colab_type": "code",
        "outputId": "6758594d-8393-41b4-85dc-a90e1abc0395",
        "colab": {
          "base_uri": "https://localhost:8080/",
          "height": 1000
        }
      },
      "source": [
        "#Execute the function\n",
        "col_names = df.columns\n",
        "target_dataframe = df\n",
        "plot_boxplots(target_dataframe,col_names)"
      ],
      "execution_count": 187,
      "outputs": [
        {
          "output_type": "display_data",
          "data": {
            "image/png": "[encoded data removed]",
            "text/plain": [
              "<Figure size 720x5760 with 20 Axes>"
            ]
          },
          "metadata": {
            "tags": []
          }
        }
      ]
    },
    {
      "cell_type": "markdown",
      "metadata": {
        "id": "4meumRDPuD_q",
        "colab_type": "text"
      },
      "source": [
        "There are a number of outliers in the dataset.\n",
        "\n",
        "This is due to a number of factors.\n",
        "For the prices,they could be high due to their locationn as well as the amenities it has. \n",
        "We also see that some amenities are not likely to be found in many houses eg the Waterfront.\n",
        "It's expected that houses with this amenity are expensive as well.\n",
        "\n",
        "Since the company's aim is to get profit,we also expect they shall maximize the spaces available to them.\n",
        "Therefore ,houses that take up more spaces,are more expensive.\n",
        "This is because the land cost is very high due to certain factors. "
      ]
    },
    {
      "cell_type": "code",
      "metadata": {
        "id": "LBGesj5lWmhK",
        "colab_type": "code",
        "colab": {
          "base_uri": "https://localhost:8080/",
          "height": 224
        },
        "outputId": "a71ca229-f19f-4fff-82b0-05adb7e97081"
      },
      "source": [
        "def year_renovated(x):\n",
        "  if x > 0:\n",
        "    return '1'\n",
        "  else:\n",
        "    return '0'\n",
        "\n",
        "# creating a new column to give the match oucome\n",
        "df['year_renovated'] = df.yr_renovated.apply(lambda x: year_renovated(x))\n",
        "df.head()"
      ],
      "execution_count": 188,
      "outputs": [
        {
          "output_type": "execute_result",
          "data": {
            "text/html": [
              "<div>\n",
              "<style scoped>\n",
              "    .dataframe tbody tr th:only-of-type {\n",
              "        vertical-align: middle;\n",
              "    }\n",
              "\n",
              "    .dataframe tbody tr th {\n",
              "        vertical-align: top;\n",
              "    }\n",
              "\n",
              "    .dataframe thead th {\n",
              "        text-align: right;\n",
              "    }\n",
              "</style>\n",
              "<table border=\"1\" class=\"dataframe\">\n",
              "  <thead>\n",
              "    <tr style=\"text-align: right;\">\n",
              "      <th></th>\n",
              "      <th>id</th>\n",
              "      <th>price</th>\n",
              "      <th>bedrooms</th>\n",
              "      <th>bathrooms</th>\n",
              "      <th>sqft_living</th>\n",
              "      <th>sqft_lot</th>\n",
              "      <th>floors</th>\n",
              "      <th>waterfront</th>\n",
              "      <th>view</th>\n",
              "      <th>condition</th>\n",
              "      <th>grade</th>\n",
              "      <th>sqft_above</th>\n",
              "      <th>sqft_basement</th>\n",
              "      <th>yr_built</th>\n",
              "      <th>yr_renovated</th>\n",
              "      <th>zipcode</th>\n",
              "      <th>lat</th>\n",
              "      <th>long</th>\n",
              "      <th>sqft_living15</th>\n",
              "      <th>sqft_lot15</th>\n",
              "      <th>year_renovated</th>\n",
              "    </tr>\n",
              "  </thead>\n",
              "  <tbody>\n",
              "    <tr>\n",
              "      <th>0</th>\n",
              "      <td>7129300520</td>\n",
              "      <td>221900.000</td>\n",
              "      <td>3</td>\n",
              "      <td>1.000</td>\n",
              "      <td>1180</td>\n",
              "      <td>5650</td>\n",
              "      <td>1.000</td>\n",
              "      <td>0</td>\n",
              "      <td>0</td>\n",
              "      <td>3</td>\n",
              "      <td>7</td>\n",
              "      <td>1180</td>\n",
              "      <td>0</td>\n",
              "      <td>1955</td>\n",
              "      <td>0</td>\n",
              "      <td>98178</td>\n",
              "      <td>47.511</td>\n",
              "      <td>-122.257</td>\n",
              "      <td>1340</td>\n",
              "      <td>5650</td>\n",
              "      <td>0</td>\n",
              "    </tr>\n",
              "    <tr>\n",
              "      <th>1</th>\n",
              "      <td>6414100192</td>\n",
              "      <td>538000.000</td>\n",
              "      <td>3</td>\n",
              "      <td>2.250</td>\n",
              "      <td>2570</td>\n",
              "      <td>7242</td>\n",
              "      <td>2.000</td>\n",
              "      <td>0</td>\n",
              "      <td>0</td>\n",
              "      <td>3</td>\n",
              "      <td>7</td>\n",
              "      <td>2170</td>\n",
              "      <td>400</td>\n",
              "      <td>1951</td>\n",
              "      <td>1991</td>\n",
              "      <td>98125</td>\n",
              "      <td>47.721</td>\n",
              "      <td>-122.319</td>\n",
              "      <td>1690</td>\n",
              "      <td>7639</td>\n",
              "      <td>1</td>\n",
              "    </tr>\n",
              "    <tr>\n",
              "      <th>2</th>\n",
              "      <td>5631500400</td>\n",
              "      <td>180000.000</td>\n",
              "      <td>2</td>\n",
              "      <td>1.000</td>\n",
              "      <td>770</td>\n",
              "      <td>10000</td>\n",
              "      <td>1.000</td>\n",
              "      <td>0</td>\n",
              "      <td>0</td>\n",
              "      <td>3</td>\n",
              "      <td>6</td>\n",
              "      <td>770</td>\n",
              "      <td>0</td>\n",
              "      <td>1933</td>\n",
              "      <td>0</td>\n",
              "      <td>98028</td>\n",
              "      <td>47.738</td>\n",
              "      <td>-122.233</td>\n",
              "      <td>2720</td>\n",
              "      <td>8062</td>\n",
              "      <td>0</td>\n",
              "    </tr>\n",
              "    <tr>\n",
              "      <th>3</th>\n",
              "      <td>2487200875</td>\n",
              "      <td>604000.000</td>\n",
              "      <td>4</td>\n",
              "      <td>3.000</td>\n",
              "      <td>1960</td>\n",
              "      <td>5000</td>\n",
              "      <td>1.000</td>\n",
              "      <td>0</td>\n",
              "      <td>0</td>\n",
              "      <td>5</td>\n",
              "      <td>7</td>\n",
              "      <td>1050</td>\n",
              "      <td>910</td>\n",
              "      <td>1965</td>\n",
              "      <td>0</td>\n",
              "      <td>98136</td>\n",
              "      <td>47.521</td>\n",
              "      <td>-122.393</td>\n",
              "      <td>1360</td>\n",
              "      <td>5000</td>\n",
              "      <td>0</td>\n",
              "    </tr>\n",
              "    <tr>\n",
              "      <th>4</th>\n",
              "      <td>1954400510</td>\n",
              "      <td>510000.000</td>\n",
              "      <td>3</td>\n",
              "      <td>2.000</td>\n",
              "      <td>1680</td>\n",
              "      <td>8080</td>\n",
              "      <td>1.000</td>\n",
              "      <td>0</td>\n",
              "      <td>0</td>\n",
              "      <td>3</td>\n",
              "      <td>8</td>\n",
              "      <td>1680</td>\n",
              "      <td>0</td>\n",
              "      <td>1987</td>\n",
              "      <td>0</td>\n",
              "      <td>98074</td>\n",
              "      <td>47.617</td>\n",
              "      <td>-122.045</td>\n",
              "      <td>1800</td>\n",
              "      <td>7503</td>\n",
              "      <td>0</td>\n",
              "    </tr>\n",
              "  </tbody>\n",
              "</table>\n",
              "</div>"
            ],
            "text/plain": [
              "           id      price  bedrooms  ...  sqft_living15  sqft_lot15  year_renovated\n",
              "0  7129300520 221900.000         3  ...           1340        5650               0\n",
              "1  6414100192 538000.000         3  ...           1690        7639               1\n",
              "2  5631500400 180000.000         2  ...           2720        8062               0\n",
              "3  2487200875 604000.000         4  ...           1360        5000               0\n",
              "4  1954400510 510000.000         3  ...           1800        7503               0\n",
              "\n",
              "[5 rows x 21 columns]"
            ]
          },
          "metadata": {
            "tags": []
          },
          "execution_count": 188
        }
      ]
    },
    {
      "cell_type": "markdown",
      "metadata": {
        "id": "2kBWoff8W0MJ",
        "colab_type": "text"
      },
      "source": [
        "In the column year renovated i shall convert the rows with years with 1 to show that the house was renovated\n",
        "This is for the sake of uniformity"
      ]
    },
    {
      "cell_type": "markdown",
      "metadata": {
        "id": "x9gz1fQwXHw6",
        "colab_type": "text"
      },
      "source": [
        "Drop the old column"
      ]
    },
    {
      "cell_type": "code",
      "metadata": {
        "id": "nqFct_ZvWxEC",
        "colab_type": "code",
        "colab": {}
      },
      "source": [
        "df = df.drop([\"yr_renovated\"],axis=1)"
      ],
      "execution_count": 0,
      "outputs": []
    },
    {
      "cell_type": "code",
      "metadata": {
        "id": "CaM7U8O1KUMF",
        "colab_type": "code",
        "colab": {}
      },
      "source": [
        "#view the row that has the outlier \n",
        "y = (df[df[\"bedrooms\"] >= 30]).index\n"
      ],
      "execution_count": 0,
      "outputs": []
    },
    {
      "cell_type": "markdown",
      "metadata": {
        "id": "rZua177pOonp",
        "colab_type": "text"
      },
      "source": [
        "The row with 33 bedrooms must have been filled in wrong since it has one bedroom and its of grade 7\n",
        "I decided to get rid of it"
      ]
    },
    {
      "cell_type": "code",
      "metadata": {
        "id": "kd0ZtUwKNtOf",
        "colab_type": "code",
        "colab": {}
      },
      "source": [
        "#drop\n",
        "df = df.drop(y)"
      ],
      "execution_count": 0,
      "outputs": []
    },
    {
      "cell_type": "code",
      "metadata": {
        "id": "sWExTzF2OUfs",
        "colab_type": "code",
        "colab": {
          "base_uri": "https://localhost:8080/",
          "height": 224
        },
        "outputId": "cba4deaa-26ab-42c0-96aa-23989ab9e732"
      },
      "source": [
        "df.head()"
      ],
      "execution_count": 192,
      "outputs": [
        {
          "output_type": "execute_result",
          "data": {
            "text/html": [
              "<div>\n",
              "<style scoped>\n",
              "    .dataframe tbody tr th:only-of-type {\n",
              "        vertical-align: middle;\n",
              "    }\n",
              "\n",
              "    .dataframe tbody tr th {\n",
              "        vertical-align: top;\n",
              "    }\n",
              "\n",
              "    .dataframe thead th {\n",
              "        text-align: right;\n",
              "    }\n",
              "</style>\n",
              "<table border=\"1\" class=\"dataframe\">\n",
              "  <thead>\n",
              "    <tr style=\"text-align: right;\">\n",
              "      <th></th>\n",
              "      <th>id</th>\n",
              "      <th>price</th>\n",
              "      <th>bedrooms</th>\n",
              "      <th>bathrooms</th>\n",
              "      <th>sqft_living</th>\n",
              "      <th>sqft_lot</th>\n",
              "      <th>floors</th>\n",
              "      <th>waterfront</th>\n",
              "      <th>view</th>\n",
              "      <th>condition</th>\n",
              "      <th>grade</th>\n",
              "      <th>sqft_above</th>\n",
              "      <th>sqft_basement</th>\n",
              "      <th>yr_built</th>\n",
              "      <th>zipcode</th>\n",
              "      <th>lat</th>\n",
              "      <th>long</th>\n",
              "      <th>sqft_living15</th>\n",
              "      <th>sqft_lot15</th>\n",
              "      <th>year_renovated</th>\n",
              "    </tr>\n",
              "  </thead>\n",
              "  <tbody>\n",
              "    <tr>\n",
              "      <th>0</th>\n",
              "      <td>7129300520</td>\n",
              "      <td>221900.000</td>\n",
              "      <td>3</td>\n",
              "      <td>1.000</td>\n",
              "      <td>1180</td>\n",
              "      <td>5650</td>\n",
              "      <td>1.000</td>\n",
              "      <td>0</td>\n",
              "      <td>0</td>\n",
              "      <td>3</td>\n",
              "      <td>7</td>\n",
              "      <td>1180</td>\n",
              "      <td>0</td>\n",
              "      <td>1955</td>\n",
              "      <td>98178</td>\n",
              "      <td>47.511</td>\n",
              "      <td>-122.257</td>\n",
              "      <td>1340</td>\n",
              "      <td>5650</td>\n",
              "      <td>0</td>\n",
              "    </tr>\n",
              "    <tr>\n",
              "      <th>1</th>\n",
              "      <td>6414100192</td>\n",
              "      <td>538000.000</td>\n",
              "      <td>3</td>\n",
              "      <td>2.250</td>\n",
              "      <td>2570</td>\n",
              "      <td>7242</td>\n",
              "      <td>2.000</td>\n",
              "      <td>0</td>\n",
              "      <td>0</td>\n",
              "      <td>3</td>\n",
              "      <td>7</td>\n",
              "      <td>2170</td>\n",
              "      <td>400</td>\n",
              "      <td>1951</td>\n",
              "      <td>98125</td>\n",
              "      <td>47.721</td>\n",
              "      <td>-122.319</td>\n",
              "      <td>1690</td>\n",
              "      <td>7639</td>\n",
              "      <td>1</td>\n",
              "    </tr>\n",
              "    <tr>\n",
              "      <th>2</th>\n",
              "      <td>5631500400</td>\n",
              "      <td>180000.000</td>\n",
              "      <td>2</td>\n",
              "      <td>1.000</td>\n",
              "      <td>770</td>\n",
              "      <td>10000</td>\n",
              "      <td>1.000</td>\n",
              "      <td>0</td>\n",
              "      <td>0</td>\n",
              "      <td>3</td>\n",
              "      <td>6</td>\n",
              "      <td>770</td>\n",
              "      <td>0</td>\n",
              "      <td>1933</td>\n",
              "      <td>98028</td>\n",
              "      <td>47.738</td>\n",
              "      <td>-122.233</td>\n",
              "      <td>2720</td>\n",
              "      <td>8062</td>\n",
              "      <td>0</td>\n",
              "    </tr>\n",
              "    <tr>\n",
              "      <th>3</th>\n",
              "      <td>2487200875</td>\n",
              "      <td>604000.000</td>\n",
              "      <td>4</td>\n",
              "      <td>3.000</td>\n",
              "      <td>1960</td>\n",
              "      <td>5000</td>\n",
              "      <td>1.000</td>\n",
              "      <td>0</td>\n",
              "      <td>0</td>\n",
              "      <td>5</td>\n",
              "      <td>7</td>\n",
              "      <td>1050</td>\n",
              "      <td>910</td>\n",
              "      <td>1965</td>\n",
              "      <td>98136</td>\n",
              "      <td>47.521</td>\n",
              "      <td>-122.393</td>\n",
              "      <td>1360</td>\n",
              "      <td>5000</td>\n",
              "      <td>0</td>\n",
              "    </tr>\n",
              "    <tr>\n",
              "      <th>4</th>\n",
              "      <td>1954400510</td>\n",
              "      <td>510000.000</td>\n",
              "      <td>3</td>\n",
              "      <td>2.000</td>\n",
              "      <td>1680</td>\n",
              "      <td>8080</td>\n",
              "      <td>1.000</td>\n",
              "      <td>0</td>\n",
              "      <td>0</td>\n",
              "      <td>3</td>\n",
              "      <td>8</td>\n",
              "      <td>1680</td>\n",
              "      <td>0</td>\n",
              "      <td>1987</td>\n",
              "      <td>98074</td>\n",
              "      <td>47.617</td>\n",
              "      <td>-122.045</td>\n",
              "      <td>1800</td>\n",
              "      <td>7503</td>\n",
              "      <td>0</td>\n",
              "    </tr>\n",
              "  </tbody>\n",
              "</table>\n",
              "</div>"
            ],
            "text/plain": [
              "           id      price  bedrooms  ...  sqft_living15  sqft_lot15  year_renovated\n",
              "0  7129300520 221900.000         3  ...           1340        5650               0\n",
              "1  6414100192 538000.000         3  ...           1690        7639               1\n",
              "2  5631500400 180000.000         2  ...           2720        8062               0\n",
              "3  2487200875 604000.000         4  ...           1360        5000               0\n",
              "4  1954400510 510000.000         3  ...           1800        7503               0\n",
              "\n",
              "[5 rows x 20 columns]"
            ]
          },
          "metadata": {
            "tags": []
          },
          "execution_count": 192
        }
      ]
    },
    {
      "cell_type": "code",
      "metadata": {
        "id": "rKWmKqUvObXt",
        "colab_type": "code",
        "colab": {
          "base_uri": "https://localhost:8080/",
          "height": 69
        },
        "outputId": "0a547f69-a99d-418a-b154-76ae51dd230a"
      },
      "source": [
        "(df[df[\"bedrooms\"] >= 30])"
      ],
      "execution_count": 193,
      "outputs": [
        {
          "output_type": "execute_result",
          "data": {
            "text/html": [
              "<div>\n",
              "<style scoped>\n",
              "    .dataframe tbody tr th:only-of-type {\n",
              "        vertical-align: middle;\n",
              "    }\n",
              "\n",
              "    .dataframe tbody tr th {\n",
              "        vertical-align: top;\n",
              "    }\n",
              "\n",
              "    .dataframe thead th {\n",
              "        text-align: right;\n",
              "    }\n",
              "</style>\n",
              "<table border=\"1\" class=\"dataframe\">\n",
              "  <thead>\n",
              "    <tr style=\"text-align: right;\">\n",
              "      <th></th>\n",
              "      <th>id</th>\n",
              "      <th>price</th>\n",
              "      <th>bedrooms</th>\n",
              "      <th>bathrooms</th>\n",
              "      <th>sqft_living</th>\n",
              "      <th>sqft_lot</th>\n",
              "      <th>floors</th>\n",
              "      <th>waterfront</th>\n",
              "      <th>view</th>\n",
              "      <th>condition</th>\n",
              "      <th>grade</th>\n",
              "      <th>sqft_above</th>\n",
              "      <th>sqft_basement</th>\n",
              "      <th>yr_built</th>\n",
              "      <th>zipcode</th>\n",
              "      <th>lat</th>\n",
              "      <th>long</th>\n",
              "      <th>sqft_living15</th>\n",
              "      <th>sqft_lot15</th>\n",
              "      <th>year_renovated</th>\n",
              "    </tr>\n",
              "  </thead>\n",
              "  <tbody>\n",
              "  </tbody>\n",
              "</table>\n",
              "</div>"
            ],
            "text/plain": [
              "Empty DataFrame\n",
              "Columns: [id, price, bedrooms, bathrooms, sqft_living, sqft_lot, floors, waterfront, view, condition, grade, sqft_above, sqft_basement, yr_built, zipcode, lat, long, sqft_living15, sqft_lot15, year_renovated]\n",
              "Index: []"
            ]
          },
          "metadata": {
            "tags": []
          },
          "execution_count": 193
        }
      ]
    },
    {
      "cell_type": "markdown",
      "metadata": {
        "id": "2d8-h-7evfe0",
        "colab_type": "text"
      },
      "source": [
        "##2.Completeness"
      ]
    },
    {
      "cell_type": "code",
      "metadata": {
        "id": "RPXu5mEPnh_n",
        "colab_type": "code",
        "outputId": "752b4557-0a0a-44a2-a240-24a7efa6866c",
        "colab": {
          "base_uri": "https://localhost:8080/",
          "height": 374
        }
      },
      "source": [
        " df.isnull().sum()"
      ],
      "execution_count": 194,
      "outputs": [
        {
          "output_type": "execute_result",
          "data": {
            "text/plain": [
              "id                0\n",
              "price             0\n",
              "bedrooms          0\n",
              "bathrooms         0\n",
              "sqft_living       0\n",
              "sqft_lot          0\n",
              "floors            0\n",
              "waterfront        0\n",
              "view              0\n",
              "condition         0\n",
              "grade             0\n",
              "sqft_above        0\n",
              "sqft_basement     0\n",
              "yr_built          0\n",
              "zipcode           0\n",
              "lat               0\n",
              "long              0\n",
              "sqft_living15     0\n",
              "sqft_lot15        0\n",
              "year_renovated    0\n",
              "dtype: int64"
            ]
          },
          "metadata": {
            "tags": []
          },
          "execution_count": 194
        }
      ]
    },
    {
      "cell_type": "markdown",
      "metadata": {
        "id": "F9qK665VvnZ9",
        "colab_type": "text"
      },
      "source": [
        "The dataset is complete"
      ]
    },
    {
      "cell_type": "markdown",
      "metadata": {
        "id": "wRbwR_0pvqkN",
        "colab_type": "text"
      },
      "source": [
        "##3.Consistency"
      ]
    },
    {
      "cell_type": "code",
      "metadata": {
        "id": "djfjX069vlzF",
        "colab_type": "code",
        "outputId": "c844b5c6-1202-4f0e-f694-00b5921b82cb",
        "colab": {
          "base_uri": "https://localhost:8080/",
          "height": 34
        }
      },
      "source": [
        "df.duplicated().sum()"
      ],
      "execution_count": 195,
      "outputs": [
        {
          "output_type": "execute_result",
          "data": {
            "text/plain": [
              "3"
            ]
          },
          "metadata": {
            "tags": []
          },
          "execution_count": 195
        }
      ]
    },
    {
      "cell_type": "markdown",
      "metadata": {
        "id": "YbcXdp5IwIEj",
        "colab_type": "text"
      },
      "source": [
        "From the dataset we have 3 duplicates\n",
        "We shall go with the option of dropping them  "
      ]
    },
    {
      "cell_type": "code",
      "metadata": {
        "id": "devmtjthwFVa",
        "colab_type": "code",
        "outputId": "3c346462-5d25-4a6b-b42e-b15a6acd2eda",
        "colab": {
          "base_uri": "https://localhost:8080/",
          "height": 224
        }
      },
      "source": [
        "df = df.drop_duplicates()\n",
        "df.head()"
      ],
      "execution_count": 196,
      "outputs": [
        {
          "output_type": "execute_result",
          "data": {
            "text/html": [
              "<div>\n",
              "<style scoped>\n",
              "    .dataframe tbody tr th:only-of-type {\n",
              "        vertical-align: middle;\n",
              "    }\n",
              "\n",
              "    .dataframe tbody tr th {\n",
              "        vertical-align: top;\n",
              "    }\n",
              "\n",
              "    .dataframe thead th {\n",
              "        text-align: right;\n",
              "    }\n",
              "</style>\n",
              "<table border=\"1\" class=\"dataframe\">\n",
              "  <thead>\n",
              "    <tr style=\"text-align: right;\">\n",
              "      <th></th>\n",
              "      <th>id</th>\n",
              "      <th>price</th>\n",
              "      <th>bedrooms</th>\n",
              "      <th>bathrooms</th>\n",
              "      <th>sqft_living</th>\n",
              "      <th>sqft_lot</th>\n",
              "      <th>floors</th>\n",
              "      <th>waterfront</th>\n",
              "      <th>view</th>\n",
              "      <th>condition</th>\n",
              "      <th>grade</th>\n",
              "      <th>sqft_above</th>\n",
              "      <th>sqft_basement</th>\n",
              "      <th>yr_built</th>\n",
              "      <th>zipcode</th>\n",
              "      <th>lat</th>\n",
              "      <th>long</th>\n",
              "      <th>sqft_living15</th>\n",
              "      <th>sqft_lot15</th>\n",
              "      <th>year_renovated</th>\n",
              "    </tr>\n",
              "  </thead>\n",
              "  <tbody>\n",
              "    <tr>\n",
              "      <th>0</th>\n",
              "      <td>7129300520</td>\n",
              "      <td>221900.000</td>\n",
              "      <td>3</td>\n",
              "      <td>1.000</td>\n",
              "      <td>1180</td>\n",
              "      <td>5650</td>\n",
              "      <td>1.000</td>\n",
              "      <td>0</td>\n",
              "      <td>0</td>\n",
              "      <td>3</td>\n",
              "      <td>7</td>\n",
              "      <td>1180</td>\n",
              "      <td>0</td>\n",
              "      <td>1955</td>\n",
              "      <td>98178</td>\n",
              "      <td>47.511</td>\n",
              "      <td>-122.257</td>\n",
              "      <td>1340</td>\n",
              "      <td>5650</td>\n",
              "      <td>0</td>\n",
              "    </tr>\n",
              "    <tr>\n",
              "      <th>1</th>\n",
              "      <td>6414100192</td>\n",
              "      <td>538000.000</td>\n",
              "      <td>3</td>\n",
              "      <td>2.250</td>\n",
              "      <td>2570</td>\n",
              "      <td>7242</td>\n",
              "      <td>2.000</td>\n",
              "      <td>0</td>\n",
              "      <td>0</td>\n",
              "      <td>3</td>\n",
              "      <td>7</td>\n",
              "      <td>2170</td>\n",
              "      <td>400</td>\n",
              "      <td>1951</td>\n",
              "      <td>98125</td>\n",
              "      <td>47.721</td>\n",
              "      <td>-122.319</td>\n",
              "      <td>1690</td>\n",
              "      <td>7639</td>\n",
              "      <td>1</td>\n",
              "    </tr>\n",
              "    <tr>\n",
              "      <th>2</th>\n",
              "      <td>5631500400</td>\n",
              "      <td>180000.000</td>\n",
              "      <td>2</td>\n",
              "      <td>1.000</td>\n",
              "      <td>770</td>\n",
              "      <td>10000</td>\n",
              "      <td>1.000</td>\n",
              "      <td>0</td>\n",
              "      <td>0</td>\n",
              "      <td>3</td>\n",
              "      <td>6</td>\n",
              "      <td>770</td>\n",
              "      <td>0</td>\n",
              "      <td>1933</td>\n",
              "      <td>98028</td>\n",
              "      <td>47.738</td>\n",
              "      <td>-122.233</td>\n",
              "      <td>2720</td>\n",
              "      <td>8062</td>\n",
              "      <td>0</td>\n",
              "    </tr>\n",
              "    <tr>\n",
              "      <th>3</th>\n",
              "      <td>2487200875</td>\n",
              "      <td>604000.000</td>\n",
              "      <td>4</td>\n",
              "      <td>3.000</td>\n",
              "      <td>1960</td>\n",
              "      <td>5000</td>\n",
              "      <td>1.000</td>\n",
              "      <td>0</td>\n",
              "      <td>0</td>\n",
              "      <td>5</td>\n",
              "      <td>7</td>\n",
              "      <td>1050</td>\n",
              "      <td>910</td>\n",
              "      <td>1965</td>\n",
              "      <td>98136</td>\n",
              "      <td>47.521</td>\n",
              "      <td>-122.393</td>\n",
              "      <td>1360</td>\n",
              "      <td>5000</td>\n",
              "      <td>0</td>\n",
              "    </tr>\n",
              "    <tr>\n",
              "      <th>4</th>\n",
              "      <td>1954400510</td>\n",
              "      <td>510000.000</td>\n",
              "      <td>3</td>\n",
              "      <td>2.000</td>\n",
              "      <td>1680</td>\n",
              "      <td>8080</td>\n",
              "      <td>1.000</td>\n",
              "      <td>0</td>\n",
              "      <td>0</td>\n",
              "      <td>3</td>\n",
              "      <td>8</td>\n",
              "      <td>1680</td>\n",
              "      <td>0</td>\n",
              "      <td>1987</td>\n",
              "      <td>98074</td>\n",
              "      <td>47.617</td>\n",
              "      <td>-122.045</td>\n",
              "      <td>1800</td>\n",
              "      <td>7503</td>\n",
              "      <td>0</td>\n",
              "    </tr>\n",
              "  </tbody>\n",
              "</table>\n",
              "</div>"
            ],
            "text/plain": [
              "           id      price  bedrooms  ...  sqft_living15  sqft_lot15  year_renovated\n",
              "0  7129300520 221900.000         3  ...           1340        5650               0\n",
              "1  6414100192 538000.000         3  ...           1690        7639               1\n",
              "2  5631500400 180000.000         2  ...           2720        8062               0\n",
              "3  2487200875 604000.000         4  ...           1360        5000               0\n",
              "4  1954400510 510000.000         3  ...           1800        7503               0\n",
              "\n",
              "[5 rows x 20 columns]"
            ]
          },
          "metadata": {
            "tags": []
          },
          "execution_count": 196
        }
      ]
    },
    {
      "cell_type": "markdown",
      "metadata": {
        "id": "o-lrwqjywcye",
        "colab_type": "text"
      },
      "source": [
        "#Exploratory Data Analysis\n",
        "\n"
      ]
    },
    {
      "cell_type": "markdown",
      "metadata": {
        "id": "gjuKv9u2wyrG",
        "colab_type": "text"
      },
      "source": [
        "##Univariate Analysis\n",
        "##Measure of central tendency\n",
        "\n",
        "This will give us more insights on our dataset "
      ]
    },
    {
      "cell_type": "code",
      "metadata": {
        "id": "imElvgV06iCX",
        "colab_type": "code",
        "outputId": "e41bb292-5236-45ef-f1b3-815b7079e87e",
        "colab": {
          "base_uri": "https://localhost:8080/",
          "height": 34
        }
      },
      "source": [
        "df.shape"
      ],
      "execution_count": 197,
      "outputs": [
        {
          "output_type": "execute_result",
          "data": {
            "text/plain": [
              "(21609, 20)"
            ]
          },
          "metadata": {
            "tags": []
          },
          "execution_count": 197
        }
      ]
    },
    {
      "cell_type": "markdown",
      "metadata": {
        "id": "V0Ex8E-fFZM9",
        "colab_type": "text"
      },
      "source": [
        "This is the number of rows and columns we have after dropping the duplicates"
      ]
    },
    {
      "cell_type": "code",
      "metadata": {
        "id": "39TOn5-BeYUO",
        "colab_type": "code",
        "outputId": "370063a0-7b75-4d5f-a14e-329e42c09b96",
        "colab": {
          "base_uri": "https://localhost:8080/",
          "height": 317
        }
      },
      "source": [
        "#Get insights on the dataset\n",
        "df.describe()"
      ],
      "execution_count": 198,
      "outputs": [
        {
          "output_type": "execute_result",
          "data": {
            "text/html": [
              "<div>\n",
              "<style scoped>\n",
              "    .dataframe tbody tr th:only-of-type {\n",
              "        vertical-align: middle;\n",
              "    }\n",
              "\n",
              "    .dataframe tbody tr th {\n",
              "        vertical-align: top;\n",
              "    }\n",
              "\n",
              "    .dataframe thead th {\n",
              "        text-align: right;\n",
              "    }\n",
              "</style>\n",
              "<table border=\"1\" class=\"dataframe\">\n",
              "  <thead>\n",
              "    <tr style=\"text-align: right;\">\n",
              "      <th></th>\n",
              "      <th>id</th>\n",
              "      <th>price</th>\n",
              "      <th>bedrooms</th>\n",
              "      <th>bathrooms</th>\n",
              "      <th>sqft_living</th>\n",
              "      <th>sqft_lot</th>\n",
              "      <th>floors</th>\n",
              "      <th>waterfront</th>\n",
              "      <th>view</th>\n",
              "      <th>condition</th>\n",
              "      <th>grade</th>\n",
              "      <th>sqft_above</th>\n",
              "      <th>sqft_basement</th>\n",
              "      <th>yr_built</th>\n",
              "      <th>zipcode</th>\n",
              "      <th>lat</th>\n",
              "      <th>long</th>\n",
              "      <th>sqft_living15</th>\n",
              "      <th>sqft_lot15</th>\n",
              "    </tr>\n",
              "  </thead>\n",
              "  <tbody>\n",
              "    <tr>\n",
              "      <th>count</th>\n",
              "      <td>21609.000</td>\n",
              "      <td>21609.000</td>\n",
              "      <td>21609.000</td>\n",
              "      <td>21609.000</td>\n",
              "      <td>21609.000</td>\n",
              "      <td>21609.000</td>\n",
              "      <td>21609.000</td>\n",
              "      <td>21609.000</td>\n",
              "      <td>21609.000</td>\n",
              "      <td>21609.000</td>\n",
              "      <td>21609.000</td>\n",
              "      <td>21609.000</td>\n",
              "      <td>21609.000</td>\n",
              "      <td>21609.000</td>\n",
              "      <td>21609.000</td>\n",
              "      <td>21609.000</td>\n",
              "      <td>21609.000</td>\n",
              "      <td>21609.000</td>\n",
              "      <td>21609.000</td>\n",
              "    </tr>\n",
              "    <tr>\n",
              "      <th>mean</th>\n",
              "      <td>4580261590.097</td>\n",
              "      <td>540174.325</td>\n",
              "      <td>3.369</td>\n",
              "      <td>2.115</td>\n",
              "      <td>2079.902</td>\n",
              "      <td>15108.711</td>\n",
              "      <td>1.494</td>\n",
              "      <td>0.008</td>\n",
              "      <td>0.234</td>\n",
              "      <td>3.409</td>\n",
              "      <td>7.657</td>\n",
              "      <td>1788.383</td>\n",
              "      <td>291.520</td>\n",
              "      <td>1971.005</td>\n",
              "      <td>98077.945</td>\n",
              "      <td>47.560</td>\n",
              "      <td>-122.214</td>\n",
              "      <td>1986.549</td>\n",
              "      <td>12769.405</td>\n",
              "    </tr>\n",
              "    <tr>\n",
              "      <th>std</th>\n",
              "      <td>2876575418.829</td>\n",
              "      <td>367395.459</td>\n",
              "      <td>0.908</td>\n",
              "      <td>0.770</td>\n",
              "      <td>918.516</td>\n",
              "      <td>41424.139</td>\n",
              "      <td>0.540</td>\n",
              "      <td>0.087</td>\n",
              "      <td>0.766</td>\n",
              "      <td>0.651</td>\n",
              "      <td>1.176</td>\n",
              "      <td>828.142</td>\n",
              "      <td>442.603</td>\n",
              "      <td>29.373</td>\n",
              "      <td>53.506</td>\n",
              "      <td>0.139</td>\n",
              "      <td>0.141</td>\n",
              "      <td>685.427</td>\n",
              "      <td>27306.549</td>\n",
              "    </tr>\n",
              "    <tr>\n",
              "      <th>min</th>\n",
              "      <td>1000102.000</td>\n",
              "      <td>75000.000</td>\n",
              "      <td>0.000</td>\n",
              "      <td>0.000</td>\n",
              "      <td>290.000</td>\n",
              "      <td>520.000</td>\n",
              "      <td>1.000</td>\n",
              "      <td>0.000</td>\n",
              "      <td>0.000</td>\n",
              "      <td>1.000</td>\n",
              "      <td>1.000</td>\n",
              "      <td>290.000</td>\n",
              "      <td>0.000</td>\n",
              "      <td>1900.000</td>\n",
              "      <td>98001.000</td>\n",
              "      <td>47.156</td>\n",
              "      <td>-122.519</td>\n",
              "      <td>399.000</td>\n",
              "      <td>651.000</td>\n",
              "    </tr>\n",
              "    <tr>\n",
              "      <th>25%</th>\n",
              "      <td>2123049194.000</td>\n",
              "      <td>321500.000</td>\n",
              "      <td>3.000</td>\n",
              "      <td>1.750</td>\n",
              "      <td>1425.000</td>\n",
              "      <td>5040.000</td>\n",
              "      <td>1.000</td>\n",
              "      <td>0.000</td>\n",
              "      <td>0.000</td>\n",
              "      <td>3.000</td>\n",
              "      <td>7.000</td>\n",
              "      <td>1190.000</td>\n",
              "      <td>0.000</td>\n",
              "      <td>1951.000</td>\n",
              "      <td>98033.000</td>\n",
              "      <td>47.471</td>\n",
              "      <td>-122.328</td>\n",
              "      <td>1490.000</td>\n",
              "      <td>5100.000</td>\n",
              "    </tr>\n",
              "    <tr>\n",
              "      <th>50%</th>\n",
              "      <td>3904930410.000</td>\n",
              "      <td>450000.000</td>\n",
              "      <td>3.000</td>\n",
              "      <td>2.250</td>\n",
              "      <td>1910.000</td>\n",
              "      <td>7620.000</td>\n",
              "      <td>1.500</td>\n",
              "      <td>0.000</td>\n",
              "      <td>0.000</td>\n",
              "      <td>3.000</td>\n",
              "      <td>7.000</td>\n",
              "      <td>1560.000</td>\n",
              "      <td>0.000</td>\n",
              "      <td>1975.000</td>\n",
              "      <td>98065.000</td>\n",
              "      <td>47.572</td>\n",
              "      <td>-122.231</td>\n",
              "      <td>1840.000</td>\n",
              "      <td>7620.000</td>\n",
              "    </tr>\n",
              "    <tr>\n",
              "      <th>75%</th>\n",
              "      <td>7308900445.000</td>\n",
              "      <td>645000.000</td>\n",
              "      <td>4.000</td>\n",
              "      <td>2.500</td>\n",
              "      <td>2550.000</td>\n",
              "      <td>10689.000</td>\n",
              "      <td>2.000</td>\n",
              "      <td>0.000</td>\n",
              "      <td>0.000</td>\n",
              "      <td>4.000</td>\n",
              "      <td>8.000</td>\n",
              "      <td>2210.000</td>\n",
              "      <td>560.000</td>\n",
              "      <td>1997.000</td>\n",
              "      <td>98118.000</td>\n",
              "      <td>47.678</td>\n",
              "      <td>-122.125</td>\n",
              "      <td>2360.000</td>\n",
              "      <td>10083.000</td>\n",
              "    </tr>\n",
              "    <tr>\n",
              "      <th>max</th>\n",
              "      <td>9900000190.000</td>\n",
              "      <td>7700000.000</td>\n",
              "      <td>11.000</td>\n",
              "      <td>8.000</td>\n",
              "      <td>13540.000</td>\n",
              "      <td>1651359.000</td>\n",
              "      <td>3.500</td>\n",
              "      <td>1.000</td>\n",
              "      <td>4.000</td>\n",
              "      <td>5.000</td>\n",
              "      <td>13.000</td>\n",
              "      <td>9410.000</td>\n",
              "      <td>4820.000</td>\n",
              "      <td>2015.000</td>\n",
              "      <td>98199.000</td>\n",
              "      <td>47.778</td>\n",
              "      <td>-121.315</td>\n",
              "      <td>6210.000</td>\n",
              "      <td>871200.000</td>\n",
              "    </tr>\n",
              "  </tbody>\n",
              "</table>\n",
              "</div>"
            ],
            "text/plain": [
              "                  id       price  bedrooms  ...      long  sqft_living15  sqft_lot15\n",
              "count      21609.000   21609.000 21609.000  ... 21609.000      21609.000   21609.000\n",
              "mean  4580261590.097  540174.325     3.369  ...  -122.214       1986.549   12769.405\n",
              "std   2876575418.829  367395.459     0.908  ...     0.141        685.427   27306.549\n",
              "min      1000102.000   75000.000     0.000  ...  -122.519        399.000     651.000\n",
              "25%   2123049194.000  321500.000     3.000  ...  -122.328       1490.000    5100.000\n",
              "50%   3904930410.000  450000.000     3.000  ...  -122.231       1840.000    7620.000\n",
              "75%   7308900445.000  645000.000     4.000  ...  -122.125       2360.000   10083.000\n",
              "max   9900000190.000 7700000.000    11.000  ...  -121.315       6210.000  871200.000\n",
              "\n",
              "[8 rows x 19 columns]"
            ]
          },
          "metadata": {
            "tags": []
          },
          "execution_count": 198
        }
      ]
    },
    {
      "cell_type": "markdown",
      "metadata": {
        "id": "oJ25UjwSFgv_",
        "colab_type": "text"
      },
      "source": [
        "We have a price mean of 540178 and a median of 450000"
      ]
    },
    {
      "cell_type": "code",
      "metadata": {
        "id": "Ki_HcOo5_RvV",
        "colab_type": "code",
        "outputId": "aca35c78-488c-4bad-eaba-902030f2bc19",
        "colab": {
          "base_uri": "https://localhost:8080/",
          "height": 1000
        }
      },
      "source": [
        "col_names = df.columns\n",
        "\n",
        "fig, ax = plt.subplots(len(col_names), figsize=(18,50))\n",
        "\n",
        "for i, col_val in enumerate(col_names):\n",
        "\n",
        "    sns.distplot(df[col_val], hist=True, ax=ax[i])\n",
        "    ax[i].set_title(' histograms  - {}'.format(col_val), fontsize=10)\n",
        "    ax[i].set_xlabel(col_val, fontsize=8)\n",
        "    ax[i].set_ylabel('Count', fontsize=8)\n",
        "\n",
        "plt.show()"
      ],
      "execution_count": 199,
      "outputs": [
        {
          "output_type": "error",
          "ename": "TypeError",
          "evalue": "ignored",
          "traceback": [
            "\u001b[0;31m---------------------------------------------------------------------------\u001b[0m",
            "\u001b[0;31mTypeError\u001b[0m                                 Traceback (most recent call last)",
            "\u001b[0;32m<ipython-input-199-ac639a6ee588>\u001b[0m in \u001b[0;36m<module>\u001b[0;34m()\u001b[0m\n\u001b[1;32m      5\u001b[0m \u001b[0;32mfor\u001b[0m \u001b[0mi\u001b[0m\u001b[0;34m,\u001b[0m \u001b[0mcol_val\u001b[0m \u001b[0;32min\u001b[0m \u001b[0menumerate\u001b[0m\u001b[0;34m(\u001b[0m\u001b[0mcol_names\u001b[0m\u001b[0;34m)\u001b[0m\u001b[0;34m:\u001b[0m\u001b[0;34m\u001b[0m\u001b[0;34m\u001b[0m\u001b[0m\n\u001b[1;32m      6\u001b[0m \u001b[0;34m\u001b[0m\u001b[0m\n\u001b[0;32m----> 7\u001b[0;31m     \u001b[0msns\u001b[0m\u001b[0;34m.\u001b[0m\u001b[0mdistplot\u001b[0m\u001b[0;34m(\u001b[0m\u001b[0mdf\u001b[0m\u001b[0;34m[\u001b[0m\u001b[0mcol_val\u001b[0m\u001b[0;34m]\u001b[0m\u001b[0;34m,\u001b[0m \u001b[0mhist\u001b[0m\u001b[0;34m=\u001b[0m\u001b[0;32mTrue\u001b[0m\u001b[0;34m,\u001b[0m \u001b[0max\u001b[0m\u001b[0;34m=\u001b[0m\u001b[0max\u001b[0m\u001b[0;34m[\u001b[0m\u001b[0mi\u001b[0m\u001b[0;34m]\u001b[0m\u001b[0;34m)\u001b[0m\u001b[0;34m\u001b[0m\u001b[0;34m\u001b[0m\u001b[0m\n\u001b[0m\u001b[1;32m      8\u001b[0m     \u001b[0max\u001b[0m\u001b[0;34m[\u001b[0m\u001b[0mi\u001b[0m\u001b[0;34m]\u001b[0m\u001b[0;34m.\u001b[0m\u001b[0mset_title\u001b[0m\u001b[0;34m(\u001b[0m\u001b[0;34m' histograms  - {}'\u001b[0m\u001b[0;34m.\u001b[0m\u001b[0mformat\u001b[0m\u001b[0;34m(\u001b[0m\u001b[0mcol_val\u001b[0m\u001b[0;34m)\u001b[0m\u001b[0;34m,\u001b[0m \u001b[0mfontsize\u001b[0m\u001b[0;34m=\u001b[0m\u001b[0;36m10\u001b[0m\u001b[0;34m)\u001b[0m\u001b[0;34m\u001b[0m\u001b[0;34m\u001b[0m\u001b[0m\n\u001b[1;32m      9\u001b[0m     \u001b[0max\u001b[0m\u001b[0;34m[\u001b[0m\u001b[0mi\u001b[0m\u001b[0;34m]\u001b[0m\u001b[0;34m.\u001b[0m\u001b[0mset_xlabel\u001b[0m\u001b[0;34m(\u001b[0m\u001b[0mcol_val\u001b[0m\u001b[0;34m,\u001b[0m \u001b[0mfontsize\u001b[0m\u001b[0;34m=\u001b[0m\u001b[0;36m8\u001b[0m\u001b[0;34m)\u001b[0m\u001b[0;34m\u001b[0m\u001b[0;34m\u001b[0m\u001b[0m\n",
            "\u001b[0;32m/usr/local/lib/python3.6/dist-packages/seaborn/distributions.py\u001b[0m in \u001b[0;36mdistplot\u001b[0;34m(a, bins, hist, kde, rug, fit, hist_kws, kde_kws, rug_kws, fit_kws, color, vertical, norm_hist, axlabel, label, ax)\u001b[0m\n\u001b[1;32m    196\u001b[0m             \u001b[0mline\u001b[0m\u001b[0;34m,\u001b[0m \u001b[0;34m=\u001b[0m \u001b[0max\u001b[0m\u001b[0;34m.\u001b[0m\u001b[0mplot\u001b[0m\u001b[0;34m(\u001b[0m\u001b[0;36m0\u001b[0m\u001b[0;34m,\u001b[0m \u001b[0ma\u001b[0m\u001b[0;34m.\u001b[0m\u001b[0mmean\u001b[0m\u001b[0;34m(\u001b[0m\u001b[0;34m)\u001b[0m\u001b[0;34m)\u001b[0m\u001b[0;34m\u001b[0m\u001b[0;34m\u001b[0m\u001b[0m\n\u001b[1;32m    197\u001b[0m         \u001b[0;32melse\u001b[0m\u001b[0;34m:\u001b[0m\u001b[0;34m\u001b[0m\u001b[0;34m\u001b[0m\u001b[0m\n\u001b[0;32m--> 198\u001b[0;31m             \u001b[0mline\u001b[0m\u001b[0;34m,\u001b[0m \u001b[0;34m=\u001b[0m \u001b[0max\u001b[0m\u001b[0;34m.\u001b[0m\u001b[0mplot\u001b[0m\u001b[0;34m(\u001b[0m\u001b[0ma\u001b[0m\u001b[0;34m.\u001b[0m\u001b[0mmean\u001b[0m\u001b[0;34m(\u001b[0m\u001b[0;34m)\u001b[0m\u001b[0;34m,\u001b[0m \u001b[0;36m0\u001b[0m\u001b[0;34m)\u001b[0m\u001b[0;34m\u001b[0m\u001b[0;34m\u001b[0m\u001b[0m\n\u001b[0m\u001b[1;32m    199\u001b[0m         \u001b[0mcolor\u001b[0m \u001b[0;34m=\u001b[0m \u001b[0mline\u001b[0m\u001b[0;34m.\u001b[0m\u001b[0mget_color\u001b[0m\u001b[0;34m(\u001b[0m\u001b[0;34m)\u001b[0m\u001b[0;34m\u001b[0m\u001b[0;34m\u001b[0m\u001b[0m\n\u001b[1;32m    200\u001b[0m         \u001b[0mline\u001b[0m\u001b[0;34m.\u001b[0m\u001b[0mremove\u001b[0m\u001b[0;34m(\u001b[0m\u001b[0;34m)\u001b[0m\u001b[0;34m\u001b[0m\u001b[0;34m\u001b[0m\u001b[0m\n",
            "\u001b[0;32m/usr/local/lib/python3.6/dist-packages/numpy/core/_methods.py\u001b[0m in \u001b[0;36m_mean\u001b[0;34m(a, axis, dtype, out, keepdims)\u001b[0m\n\u001b[1;32m    161\u001b[0m             \u001b[0mret\u001b[0m \u001b[0;34m=\u001b[0m \u001b[0mret\u001b[0m\u001b[0;34m.\u001b[0m\u001b[0mdtype\u001b[0m\u001b[0;34m.\u001b[0m\u001b[0mtype\u001b[0m\u001b[0;34m(\u001b[0m\u001b[0mret\u001b[0m \u001b[0;34m/\u001b[0m \u001b[0mrcount\u001b[0m\u001b[0;34m)\u001b[0m\u001b[0;34m\u001b[0m\u001b[0;34m\u001b[0m\u001b[0m\n\u001b[1;32m    162\u001b[0m     \u001b[0;32melse\u001b[0m\u001b[0;34m:\u001b[0m\u001b[0;34m\u001b[0m\u001b[0;34m\u001b[0m\u001b[0m\n\u001b[0;32m--> 163\u001b[0;31m         \u001b[0mret\u001b[0m \u001b[0;34m=\u001b[0m \u001b[0mret\u001b[0m \u001b[0;34m/\u001b[0m \u001b[0mrcount\u001b[0m\u001b[0;34m\u001b[0m\u001b[0;34m\u001b[0m\u001b[0m\n\u001b[0m\u001b[1;32m    164\u001b[0m \u001b[0;34m\u001b[0m\u001b[0m\n\u001b[1;32m    165\u001b[0m     \u001b[0;32mreturn\u001b[0m \u001b[0mret\u001b[0m\u001b[0;34m\u001b[0m\u001b[0;34m\u001b[0m\u001b[0m\n",
            "\u001b[0;31mTypeError\u001b[0m: unsupported operand type(s) for /: 'str' and 'int'"
          ]
        },
        {
          "output_type": "display_data",
          "data": {
            "image/png": "[encoded data removed]",
            "text/plain": [
              "<Figure size 1296x3600 with 20 Axes>"
            ]
          },
          "metadata": {
            "tags": []
          }
        }
      ]
    },
    {
      "cell_type": "code",
      "metadata": {
        "id": "Qpd3VGz_Wxf6",
        "colab_type": "code",
        "colab": {}
      },
      "source": [
        "import matplotlib.pyplot as plt\n",
        "from mpl_toolkits.mplot3d import axes3d"
      ],
      "execution_count": 0,
      "outputs": []
    },
    {
      "cell_type": "code",
      "metadata": {
        "id": "we9OZHuOVp9W",
        "colab_type": "code",
        "colab": {}
      },
      "source": [
        "from matplotlib import pyplot\n",
        "names = df.columns\n",
        "df.hist(figsize=(15,30))\n",
        "\n",
        "pyplot.show()"
      ],
      "execution_count": 0,
      "outputs": []
    },
    {
      "cell_type": "markdown",
      "metadata": {
        "id": "zGbCQtJaErOt",
        "colab_type": "text"
      },
      "source": [
        "##Bivariate Analysis"
      ]
    },
    {
      "cell_type": "code",
      "metadata": {
        "id": "Jcdr_jRL8FB9",
        "colab_type": "code",
        "colab": {}
      },
      "source": [
        "#plot price vs the number of bedroom\n",
        "plt.scatter(df[\"bedrooms\"],df[\"price\"])\n",
        "plt.ylabel(\"house price\")\n",
        "plt.xlabel(\"number of bedrooms\")\n",
        "plt.title(\"price vs number of bedrooms\")"
      ],
      "execution_count": 0,
      "outputs": []
    },
    {
      "cell_type": "code",
      "metadata": {
        "id": "yIPWsCC8VA2G",
        "colab_type": "code",
        "colab": {}
      },
      "source": [
        "plt.scatter(df[\"condition\"],df[\"price\"])\n",
        "plt.ylabel(\"house price\")\n",
        "plt.xlabel(\"condition of the house\")\n",
        "plt.title(\"price vs condition of the house\")"
      ],
      "execution_count": 0,
      "outputs": []
    },
    {
      "cell_type": "code",
      "metadata": {
        "id": "BMKRr-ltcJE9",
        "colab_type": "code",
        "colab": {}
      },
      "source": [
        "plt.scatter(df[\"bathrooms\"],df[\"price\"])\n",
        "plt.ylabel(\"house price\")\n",
        "plt.xlabel(\"number of bathrooms\")\n",
        "plt.title(\"price vs bathrooms\")"
      ],
      "execution_count": 0,
      "outputs": []
    },
    {
      "cell_type": "code",
      "metadata": {
        "id": "NESM6QajdT1I",
        "colab_type": "code",
        "colab": {}
      },
      "source": [
        "plt.scatter(df[\"sqft_living\"],df[\"price\"])\n",
        "plt.ylabel(\"house price\")\n",
        "plt.xlabel(\"sqft_living\")\n",
        "plt.title(\"price vs sqft_living\")"
      ],
      "execution_count": 0,
      "outputs": []
    },
    {
      "cell_type": "code",
      "metadata": {
        "id": "2BtF9a_fdmsc",
        "colab_type": "code",
        "colab": {}
      },
      "source": [
        "plt.scatter(df[\"view\"],df[\"price\"])\n",
        "plt.ylabel(\"house price\")\n",
        "plt.xlabel(\"view\")\n",
        "plt.title(\"price vs view\")"
      ],
      "execution_count": 0,
      "outputs": []
    },
    {
      "cell_type": "code",
      "metadata": {
        "id": "IuvF9OWFe632",
        "colab_type": "code",
        "colab": {}
      },
      "source": [
        "plt.scatter(df[\"floors\"],df[\"price\"])\n",
        "plt.ylabel(\"house price\")\n",
        "plt.xlabel(\"floors\")\n",
        "plt.title(\"price vs floors\")"
      ],
      "execution_count": 0,
      "outputs": []
    },
    {
      "cell_type": "code",
      "metadata": {
        "id": "B0upfa0ee9Qw",
        "colab_type": "code",
        "colab": {}
      },
      "source": [
        "plt.scatter(df[\"waterfront\"],df[\"price\"])\n",
        "plt.ylabel(\"house price\")\n",
        "plt.xlabel(\"waterfront\")\n",
        "plt.title(\"price vs waterfront\")"
      ],
      "execution_count": 0,
      "outputs": []
    },
    {
      "cell_type": "code",
      "metadata": {
        "id": "tyluXnZ3hUTl",
        "colab_type": "code",
        "colab": {}
      },
      "source": [
        "sns.set(rc={\"figure.figsize\":(10,8)})\n",
        "sns.regplot(x=df[\"sqft_living15\"],y=df[\"price\"],fit_reg=True)\n",
        "plt.title(\"price vs sqft_living15\")"
      ],
      "execution_count": 0,
      "outputs": []
    },
    {
      "cell_type": "code",
      "metadata": {
        "id": "LrDCMpWvfXrF",
        "colab_type": "code",
        "colab": {}
      },
      "source": [
        "plt.scatter(df[\"sqft_living15\"],df[\"price\"])\n",
        "plt.ylabel(\"house price\")\n",
        "plt.xlabel(\"sqft_living15\")\n",
        "plt.title(\"price vs sqft_living15\")"
      ],
      "execution_count": 0,
      "outputs": []
    },
    {
      "cell_type": "code",
      "metadata": {
        "id": "2B0fXJigfk6R",
        "colab_type": "code",
        "colab": {}
      },
      "source": [
        "plt.scatter(df[\"sqft_basement\"],df[\"price\"])\n",
        "plt.ylabel(\"house price\")\n",
        "plt.xlabel(\"sqft_basement\")\n",
        "plt.title(\"price vs ssqft_basement\")"
      ],
      "execution_count": 0,
      "outputs": []
    },
    {
      "cell_type": "code",
      "metadata": {
        "id": "jYeRva3ugCXk",
        "colab_type": "code",
        "colab": {}
      },
      "source": [
        "plt.scatter(df[\"yr_built\"],df[\"price\"])\n",
        "plt.ylabel(\"house price\")\n",
        "plt.xlabel(\"yr_built\")\n",
        "plt.title(\"price vs yr_built\")"
      ],
      "execution_count": 0,
      "outputs": []
    },
    {
      "cell_type": "code",
      "metadata": {
        "id": "-nDDkl5egb5f",
        "colab_type": "code",
        "colab": {}
      },
      "source": [
        "plt.scatter(df[\"year_renovated\"],df[\"price\"])\n",
        "plt.ylabel(\"house price\")\n",
        "plt.xlabel(\"yr_renovated\")\n",
        "plt.title(\"price vs yr_renovated\")"
      ],
      "execution_count": 0,
      "outputs": []
    },
    {
      "cell_type": "code",
      "metadata": {
        "id": "bhjfeeyYHEg4",
        "colab_type": "code",
        "colab": {}
      },
      "source": [
        "plt.scatter(df[\"grade\"],df[\"price\"])\n",
        "plt.ylabel(\"house price\")\n",
        "plt.xlabel(\"grade\")\n",
        "plt.title(\"price vs grade\")"
      ],
      "execution_count": 0,
      "outputs": []
    },
    {
      "cell_type": "markdown",
      "metadata": {
        "id": "q_BWH_M0JJyr",
        "colab_type": "text"
      },
      "source": [
        "I have made an observation that most houses are quite pricey.This is because their ratings are really high \n",
        "\n",
        "I concluded that these houses are likely to be in a very valuable neighbourhood"
      ]
    },
    {
      "cell_type": "code",
      "metadata": {
        "id": "D5W5aE2HiT95",
        "colab_type": "code",
        "colab": {}
      },
      "source": [
        "plt.figure(figsize=(24, 8))\n",
        "\n",
        "vg_corr = df.corr()\n",
        "sns.heatmap(vg_corr, \n",
        "            xticklabels = vg_corr.columns.values,\n",
        "            yticklabels = vg_corr.columns.values,\n",
        "            annot = True);"
      ],
      "execution_count": 0,
      "outputs": []
    },
    {
      "cell_type": "markdown",
      "metadata": {
        "id": "GXhCkgQ_jSMn",
        "colab_type": "text"
      },
      "source": [
        "There is a strong relationship of 0.76 between sqft_living15 and sqft_living\n",
        "A strong relationship of 0.72 also exists between  sqft_lot and sqft_loft15\n",
        "\n",
        "Hence,they will be peforming the same task when we build a model\n",
        "We can therefore remove one of them "
      ]
    },
    {
      "cell_type": "markdown",
      "metadata": {
        "id": "DYwzn7hjqcOp",
        "colab_type": "text"
      },
      "source": [
        "#Dropping columns \n",
        "I went ahead and dropped columns that i shall not use based on my EDA analysis"
      ]
    },
    {
      "cell_type": "code",
      "metadata": {
        "id": "lGyiKd-UjO3D",
        "colab_type": "code",
        "colab": {}
      },
      "source": [
        "houses = df.drop([\"id\",\"zipcode\",\"lat\",\"long\",\"sqft_living\",\"sqft_lot\",\"sqft_above\"],axis=1)\n",
        "houses.head()"
      ],
      "execution_count": 0,
      "outputs": []
    },
    {
      "cell_type": "code",
      "metadata": {
        "id": "fZAlhH9-mqM7",
        "colab_type": "code",
        "colab": {}
      },
      "source": [
        "plt.figure(figsize=(16, 8))\n",
        "\n",
        "vg_corr = houses.corr()\n",
        "sns.heatmap(vg_corr, \n",
        "            xticklabels = vg_corr.columns.values,\n",
        "            yticklabels = vg_corr.columns.values,\n",
        "            annot = True);"
      ],
      "execution_count": 0,
      "outputs": []
    },
    {
      "cell_type": "markdown",
      "metadata": {
        "id": "rGSyE0JSh34J",
        "colab_type": "text"
      },
      "source": [
        "#Regression"
      ]
    },
    {
      "cell_type": "markdown",
      "metadata": {
        "id": "bpM8KahLEVpY",
        "colab_type": "text"
      },
      "source": [
        "##Multiple Linear Regression\n",
        "We shall conduct PCA which shall do the reduction for the independent variables \n"
      ]
    },
    {
      "cell_type": "code",
      "metadata": {
        "id": "jKCnRs3OGSkj",
        "colab_type": "code",
        "colab": {}
      },
      "source": [
        "#Preprocessing \n",
        "#create the indepent variables \n",
        "X = houses.drop('price', 1)\n",
        "y = np.log(houses['price'])\n",
        "\n",
        "#Split the data\n",
        "# 20% is for testing which 80% is for training the dataset \n",
        "X_train, X_test, y_train, y_test = train_test_split(X, y, test_size=0.2, random_state=25)"
      ],
      "execution_count": 0,
      "outputs": []
    },
    {
      "cell_type": "code",
      "metadata": {
        "id": "1AAdlchNFNBL",
        "colab_type": "code",
        "colab": {}
      },
      "source": [
        "# Normalization\n",
        "# PCA performs best with a normalized feature set. \n",
        "# We will perform standard scalar normalization to normalize our feature set. \n",
        "\n",
        "sc = StandardScaler()\n",
        "X_train = sc.fit_transform(X_train)\n",
        "X_test = sc.transform(X_test)"
      ],
      "execution_count": 0,
      "outputs": []
    },
    {
      "cell_type": "code",
      "metadata": {
        "id": "-V_595lfHOUL",
        "colab_type": "code",
        "colab": {}
      },
      "source": [
        "#Perform pca \n",
        "pca = PCA(n_components=12)\n",
        "X_train = pca.fit_transform(X_train)\n",
        "X_test = pca.transform(X_test)\n"
      ],
      "execution_count": 0,
      "outputs": []
    },
    {
      "cell_type": "code",
      "metadata": {
        "id": "0Dby-RbjHjee",
        "colab_type": "code",
        "colab": {
          "base_uri": "https://localhost:8080/",
          "height": 34
        },
        "outputId": "341be2c6-7400-4e5e-96a9-c750eae9e335"
      },
      "source": [
        "regressor = LinearRegression()\n",
        "\n",
        "regressor.fit(X_train,y_train)"
      ],
      "execution_count": 217,
      "outputs": [
        {
          "output_type": "execute_result",
          "data": {
            "text/plain": [
              "LinearRegression(copy_X=True, fit_intercept=True, n_jobs=None, normalize=False)"
            ]
          },
          "metadata": {
            "tags": []
          },
          "execution_count": 217
        }
      ]
    },
    {
      "cell_type": "code",
      "metadata": {
        "id": "UuGD7PfoI4Y3",
        "colab_type": "code",
        "colab": {
          "base_uri": "https://localhost:8080/",
          "height": 68
        },
        "outputId": "94cf220a-3d99-4868-ebf8-88fc532e8b48"
      },
      "source": [
        "#display the intercept / bias\n",
        "print(regressor.intercept_)\n",
        "\n",
        "#display the coefficient\n",
        "print(regressor.coef_)"
      ],
      "execution_count": 218,
      "outputs": [
        {
          "output_type": "stream",
          "text": [
            "13.048104387124422\n",
            "[ 0.18367063  0.12362059  0.00542303 -0.01381529  0.00992802 -0.08329871\n",
            " -0.12833513 -0.0470309  -0.05271885  0.19091063  0.12018263  0.03223042]\n"
          ],
          "name": "stdout"
        }
      ]
    },
    {
      "cell_type": "markdown",
      "metadata": {
        "id": "dpzDvi2IS4UB",
        "colab_type": "text"
      },
      "source": [
        "The higher the intercept the more impact it has on the response variable"
      ]
    },
    {
      "cell_type": "code",
      "metadata": {
        "id": "68vWraSoKxvt",
        "colab_type": "code",
        "colab": {
          "base_uri": "https://localhost:8080/",
          "height": 68
        },
        "outputId": "bdd2dd7b-766c-44e7-a730-dee95bb2836e"
      },
      "source": [
        "#conduct the explained variance ratio\n",
        "#It has the amount of variance explained by each of the selected components. \n",
        "#The higher the variance is the more information the component would carry\n",
        "pca.explained_variance_ratio_"
      ],
      "execution_count": 219,
      "outputs": [
        {
          "output_type": "execute_result",
          "data": {
            "text/plain": [
              "array([0.28645828, 0.1561017 , 0.10612495, 0.08780817, 0.08259753,\n",
              "       0.06517376, 0.05490989, 0.04594596, 0.04290475, 0.03230702,\n",
              "       0.0204566 , 0.01921138])"
            ]
          },
          "metadata": {
            "tags": []
          },
          "execution_count": 219
        }
      ]
    },
    {
      "cell_type": "code",
      "metadata": {
        "id": "OtvafQAEK8wG",
        "colab_type": "code",
        "colab": {}
      },
      "source": [
        "#the model\n",
        "y_pred = regressor.predict(X_test)"
      ],
      "execution_count": 0,
      "outputs": []
    },
    {
      "cell_type": "markdown",
      "metadata": {
        "id": "N5RpKZHhatwB",
        "colab_type": "text"
      },
      "source": [
        "When i use 4 variables the MSE IS 0.13\n",
        "If i increase the variables,i get a better model with a MSE OF 0.098"
      ]
    },
    {
      "cell_type": "code",
      "metadata": {
        "id": "DJXYLKqmLQ9q",
        "colab_type": "code",
        "colab": {
          "base_uri": "https://localhost:8080/",
          "height": 68
        },
        "outputId": "9db1948f-0be4-4e5b-d2d1-715e3f1f63bc"
      },
      "source": [
        "#check how accurate our model will be \n",
        "\n",
        "print('Mean Absolute Error:', metrics.mean_absolute_error(y_test, y_pred))  \n",
        "print('Mean Squared Error:', metrics.mean_squared_error(y_test, y_pred))  \n",
        "print('Root Mean Squared Error:', np.sqrt(metrics.mean_squared_error(y_test, y_pred)))"
      ],
      "execution_count": 222,
      "outputs": [
        {
          "output_type": "stream",
          "text": [
            "Mean Absolute Error: 0.24806971237576056\n",
            "Mean Squared Error: 0.09870284395670069\n",
            "Root Mean Squared Error: 0.3141700876224544\n"
          ],
          "name": "stdout"
        }
      ]
    },
    {
      "cell_type": "code",
      "metadata": {
        "id": "M82RcCbJY9kh",
        "colab_type": "code",
        "colab": {
          "base_uri": "https://localhost:8080/",
          "height": 34
        },
        "outputId": "1992b997-4988-4479-be45-55e4c439bb46"
      },
      "source": [
        "r2_score(y_test,y_pred)"
      ],
      "execution_count": 223,
      "outputs": [
        {
          "output_type": "execute_result",
          "data": {
            "text/plain": [
              "0.638545180827865"
            ]
          },
          "metadata": {
            "tags": []
          },
          "execution_count": 223
        }
      ]
    },
    {
      "cell_type": "markdown",
      "metadata": {
        "id": "7Y3ADTtcbDct",
        "colab_type": "text"
      },
      "source": [
        "The accuracy has also improved from 50% to 63% when i use all the variables "
      ]
    },
    {
      "cell_type": "markdown",
      "metadata": {
        "id": "rOVday6nMVaC",
        "colab_type": "text"
      },
      "source": [
        "For Multiple linear regression to incorporated,we have to ensure we meet 4 conditions\n",
        "1. No or low multicollinearity\n",
        "2.Homoscedasticity\n",
        "3.Normality\n",
        "4.Independent variables should be independent"
      ]
    },
    {
      "cell_type": "markdown",
      "metadata": {
        "id": "61dDxlTWM9KL",
        "colab_type": "text"
      },
      "source": [
        "###Test for Multicollinearty"
      ]
    },
    {
      "cell_type": "code",
      "metadata": {
        "id": "XIHYTDMVL-1B",
        "colab_type": "code",
        "colab": {
          "base_uri": "https://localhost:8080/",
          "height": 472
        },
        "outputId": "0d2a2778-a856-460a-d95d-889d77e2e512"
      },
      "source": [
        "correlations = houses.corr()\n",
        "correlations"
      ],
      "execution_count": 224,
      "outputs": [
        {
          "output_type": "execute_result",
          "data": {
            "text/html": [
              "<div>\n",
              "<style scoped>\n",
              "    .dataframe tbody tr th:only-of-type {\n",
              "        vertical-align: middle;\n",
              "    }\n",
              "\n",
              "    .dataframe tbody tr th {\n",
              "        vertical-align: top;\n",
              "    }\n",
              "\n",
              "    .dataframe thead th {\n",
              "        text-align: right;\n",
              "    }\n",
              "</style>\n",
              "<table border=\"1\" class=\"dataframe\">\n",
              "  <thead>\n",
              "    <tr style=\"text-align: right;\">\n",
              "      <th></th>\n",
              "      <th>price</th>\n",
              "      <th>bedrooms</th>\n",
              "      <th>bathrooms</th>\n",
              "      <th>floors</th>\n",
              "      <th>waterfront</th>\n",
              "      <th>view</th>\n",
              "      <th>condition</th>\n",
              "      <th>grade</th>\n",
              "      <th>sqft_basement</th>\n",
              "      <th>yr_built</th>\n",
              "      <th>yr_renovated</th>\n",
              "      <th>sqft_living15</th>\n",
              "      <th>sqft_lot15</th>\n",
              "    </tr>\n",
              "  </thead>\n",
              "  <tbody>\n",
              "    <tr>\n",
              "      <th>price</th>\n",
              "      <td>1.000</td>\n",
              "      <td>0.315</td>\n",
              "      <td>0.525</td>\n",
              "      <td>0.257</td>\n",
              "      <td>0.266</td>\n",
              "      <td>0.397</td>\n",
              "      <td>0.036</td>\n",
              "      <td>0.667</td>\n",
              "      <td>0.324</td>\n",
              "      <td>0.054</td>\n",
              "      <td>0.127</td>\n",
              "      <td>0.585</td>\n",
              "      <td>0.082</td>\n",
              "    </tr>\n",
              "    <tr>\n",
              "      <th>bedrooms</th>\n",
              "      <td>0.315</td>\n",
              "      <td>1.000</td>\n",
              "      <td>0.529</td>\n",
              "      <td>0.181</td>\n",
              "      <td>-0.007</td>\n",
              "      <td>0.082</td>\n",
              "      <td>0.025</td>\n",
              "      <td>0.367</td>\n",
              "      <td>0.309</td>\n",
              "      <td>0.159</td>\n",
              "      <td>0.019</td>\n",
              "      <td>0.403</td>\n",
              "      <td>0.030</td>\n",
              "    </tr>\n",
              "    <tr>\n",
              "      <th>bathrooms</th>\n",
              "      <td>0.525</td>\n",
              "      <td>0.529</td>\n",
              "      <td>1.000</td>\n",
              "      <td>0.501</td>\n",
              "      <td>0.064</td>\n",
              "      <td>0.188</td>\n",
              "      <td>-0.125</td>\n",
              "      <td>0.665</td>\n",
              "      <td>0.284</td>\n",
              "      <td>0.506</td>\n",
              "      <td>0.051</td>\n",
              "      <td>0.569</td>\n",
              "      <td>0.087</td>\n",
              "    </tr>\n",
              "    <tr>\n",
              "      <th>floors</th>\n",
              "      <td>0.257</td>\n",
              "      <td>0.181</td>\n",
              "      <td>0.501</td>\n",
              "      <td>1.000</td>\n",
              "      <td>0.024</td>\n",
              "      <td>0.029</td>\n",
              "      <td>-0.264</td>\n",
              "      <td>0.458</td>\n",
              "      <td>-0.246</td>\n",
              "      <td>0.489</td>\n",
              "      <td>0.006</td>\n",
              "      <td>0.280</td>\n",
              "      <td>-0.011</td>\n",
              "    </tr>\n",
              "    <tr>\n",
              "      <th>waterfront</th>\n",
              "      <td>0.266</td>\n",
              "      <td>-0.007</td>\n",
              "      <td>0.064</td>\n",
              "      <td>0.024</td>\n",
              "      <td>1.000</td>\n",
              "      <td>0.402</td>\n",
              "      <td>0.017</td>\n",
              "      <td>0.083</td>\n",
              "      <td>0.081</td>\n",
              "      <td>-0.026</td>\n",
              "      <td>0.093</td>\n",
              "      <td>0.086</td>\n",
              "      <td>0.031</td>\n",
              "    </tr>\n",
              "    <tr>\n",
              "      <th>view</th>\n",
              "      <td>0.397</td>\n",
              "      <td>0.082</td>\n",
              "      <td>0.188</td>\n",
              "      <td>0.029</td>\n",
              "      <td>0.402</td>\n",
              "      <td>1.000</td>\n",
              "      <td>0.046</td>\n",
              "      <td>0.251</td>\n",
              "      <td>0.277</td>\n",
              "      <td>-0.053</td>\n",
              "      <td>0.103</td>\n",
              "      <td>0.280</td>\n",
              "      <td>0.073</td>\n",
              "    </tr>\n",
              "    <tr>\n",
              "      <th>condition</th>\n",
              "      <td>0.036</td>\n",
              "      <td>0.025</td>\n",
              "      <td>-0.125</td>\n",
              "      <td>-0.264</td>\n",
              "      <td>0.017</td>\n",
              "      <td>0.046</td>\n",
              "      <td>1.000</td>\n",
              "      <td>-0.145</td>\n",
              "      <td>0.174</td>\n",
              "      <td>-0.361</td>\n",
              "      <td>-0.061</td>\n",
              "      <td>-0.093</td>\n",
              "      <td>-0.003</td>\n",
              "    </tr>\n",
              "    <tr>\n",
              "      <th>grade</th>\n",
              "      <td>0.667</td>\n",
              "      <td>0.367</td>\n",
              "      <td>0.665</td>\n",
              "      <td>0.458</td>\n",
              "      <td>0.083</td>\n",
              "      <td>0.251</td>\n",
              "      <td>-0.145</td>\n",
              "      <td>1.000</td>\n",
              "      <td>0.168</td>\n",
              "      <td>0.447</td>\n",
              "      <td>0.014</td>\n",
              "      <td>0.713</td>\n",
              "      <td>0.119</td>\n",
              "    </tr>\n",
              "    <tr>\n",
              "      <th>sqft_basement</th>\n",
              "      <td>0.324</td>\n",
              "      <td>0.309</td>\n",
              "      <td>0.284</td>\n",
              "      <td>-0.246</td>\n",
              "      <td>0.081</td>\n",
              "      <td>0.277</td>\n",
              "      <td>0.174</td>\n",
              "      <td>0.168</td>\n",
              "      <td>1.000</td>\n",
              "      <td>-0.133</td>\n",
              "      <td>0.071</td>\n",
              "      <td>0.200</td>\n",
              "      <td>0.017</td>\n",
              "    </tr>\n",
              "    <tr>\n",
              "      <th>yr_built</th>\n",
              "      <td>0.054</td>\n",
              "      <td>0.159</td>\n",
              "      <td>0.506</td>\n",
              "      <td>0.489</td>\n",
              "      <td>-0.026</td>\n",
              "      <td>-0.053</td>\n",
              "      <td>-0.361</td>\n",
              "      <td>0.447</td>\n",
              "      <td>-0.133</td>\n",
              "      <td>1.000</td>\n",
              "      <td>-0.225</td>\n",
              "      <td>0.326</td>\n",
              "      <td>0.071</td>\n",
              "    </tr>\n",
              "    <tr>\n",
              "      <th>yr_renovated</th>\n",
              "      <td>0.127</td>\n",
              "      <td>0.019</td>\n",
              "      <td>0.051</td>\n",
              "      <td>0.006</td>\n",
              "      <td>0.093</td>\n",
              "      <td>0.103</td>\n",
              "      <td>-0.061</td>\n",
              "      <td>0.014</td>\n",
              "      <td>0.071</td>\n",
              "      <td>-0.225</td>\n",
              "      <td>1.000</td>\n",
              "      <td>-0.003</td>\n",
              "      <td>0.008</td>\n",
              "    </tr>\n",
              "    <tr>\n",
              "      <th>sqft_living15</th>\n",
              "      <td>0.585</td>\n",
              "      <td>0.403</td>\n",
              "      <td>0.569</td>\n",
              "      <td>0.280</td>\n",
              "      <td>0.086</td>\n",
              "      <td>0.280</td>\n",
              "      <td>-0.093</td>\n",
              "      <td>0.713</td>\n",
              "      <td>0.200</td>\n",
              "      <td>0.326</td>\n",
              "      <td>-0.003</td>\n",
              "      <td>1.000</td>\n",
              "      <td>0.183</td>\n",
              "    </tr>\n",
              "    <tr>\n",
              "      <th>sqft_lot15</th>\n",
              "      <td>0.082</td>\n",
              "      <td>0.030</td>\n",
              "      <td>0.087</td>\n",
              "      <td>-0.011</td>\n",
              "      <td>0.031</td>\n",
              "      <td>0.073</td>\n",
              "      <td>-0.003</td>\n",
              "      <td>0.119</td>\n",
              "      <td>0.017</td>\n",
              "      <td>0.071</td>\n",
              "      <td>0.008</td>\n",
              "      <td>0.183</td>\n",
              "      <td>1.000</td>\n",
              "    </tr>\n",
              "  </tbody>\n",
              "</table>\n",
              "</div>"
            ],
            "text/plain": [
              "               price  bedrooms  ...  sqft_living15  sqft_lot15\n",
              "price          1.000     0.315  ...          0.585       0.082\n",
              "bedrooms       0.315     1.000  ...          0.403       0.030\n",
              "bathrooms      0.525     0.529  ...          0.569       0.087\n",
              "floors         0.257     0.181  ...          0.280      -0.011\n",
              "waterfront     0.266    -0.007  ...          0.086       0.031\n",
              "view           0.397     0.082  ...          0.280       0.073\n",
              "condition      0.036     0.025  ...         -0.093      -0.003\n",
              "grade          0.667     0.367  ...          0.713       0.119\n",
              "sqft_basement  0.324     0.309  ...          0.200       0.017\n",
              "yr_built       0.054     0.159  ...          0.326       0.071\n",
              "yr_renovated   0.127     0.019  ...         -0.003       0.008\n",
              "sqft_living15  0.585     0.403  ...          1.000       0.183\n",
              "sqft_lot15     0.082     0.030  ...          0.183       1.000\n",
              "\n",
              "[13 rows x 13 columns]"
            ]
          },
          "metadata": {
            "tags": []
          },
          "execution_count": 224
        }
      ]
    },
    {
      "cell_type": "markdown",
      "metadata": {
        "id": "W9K2roEWOcV0",
        "colab_type": "text"
      },
      "source": [
        "Dataframe with inverse of the correlation"
      ]
    },
    {
      "cell_type": "code",
      "metadata": {
        "id": "qkhG6L3IN3Vm",
        "colab_type": "code",
        "colab": {
          "base_uri": "https://localhost:8080/",
          "height": 472
        },
        "outputId": "8273970a-9b08-4557-ddd0-20639518423b"
      },
      "source": [
        "pd.DataFrame(np.linalg.inv(correlations.values), index = correlations.index, columns=correlations.columns)\n"
      ],
      "execution_count": 225,
      "outputs": [
        {
          "output_type": "execute_result",
          "data": {
            "text/html": [
              "<div>\n",
              "<style scoped>\n",
              "    .dataframe tbody tr th:only-of-type {\n",
              "        vertical-align: middle;\n",
              "    }\n",
              "\n",
              "    .dataframe tbody tr th {\n",
              "        vertical-align: top;\n",
              "    }\n",
              "\n",
              "    .dataframe thead th {\n",
              "        text-align: right;\n",
              "    }\n",
              "</style>\n",
              "<table border=\"1\" class=\"dataframe\">\n",
              "  <thead>\n",
              "    <tr style=\"text-align: right;\">\n",
              "      <th></th>\n",
              "      <th>price</th>\n",
              "      <th>bedrooms</th>\n",
              "      <th>bathrooms</th>\n",
              "      <th>floors</th>\n",
              "      <th>waterfront</th>\n",
              "      <th>view</th>\n",
              "      <th>condition</th>\n",
              "      <th>grade</th>\n",
              "      <th>sqft_basement</th>\n",
              "      <th>yr_built</th>\n",
              "      <th>yr_renovated</th>\n",
              "      <th>sqft_living15</th>\n",
              "      <th>sqft_lot15</th>\n",
              "    </tr>\n",
              "  </thead>\n",
              "  <tbody>\n",
              "    <tr>\n",
              "      <th>price</th>\n",
              "      <td>2.678</td>\n",
              "      <td>0.096</td>\n",
              "      <td>-0.516</td>\n",
              "      <td>-0.193</td>\n",
              "      <td>-0.386</td>\n",
              "      <td>-0.233</td>\n",
              "      <td>-0.086</td>\n",
              "      <td>-1.326</td>\n",
              "      <td>-0.261</td>\n",
              "      <td>0.837</td>\n",
              "      <td>-0.034</td>\n",
              "      <td>-0.449</td>\n",
              "      <td>0.033</td>\n",
              "    </tr>\n",
              "    <tr>\n",
              "      <th>bedrooms</th>\n",
              "      <td>0.096</td>\n",
              "      <td>1.522</td>\n",
              "      <td>-0.745</td>\n",
              "      <td>-0.018</td>\n",
              "      <td>0.030</td>\n",
              "      <td>0.123</td>\n",
              "      <td>-0.060</td>\n",
              "      <td>0.011</td>\n",
              "      <td>-0.237</td>\n",
              "      <td>0.195</td>\n",
              "      <td>0.036</td>\n",
              "      <td>-0.316</td>\n",
              "      <td>0.047</td>\n",
              "    </tr>\n",
              "    <tr>\n",
              "      <th>bathrooms</th>\n",
              "      <td>-0.516</td>\n",
              "      <td>-0.745</td>\n",
              "      <td>3.141</td>\n",
              "      <td>-0.756</td>\n",
              "      <td>0.055</td>\n",
              "      <td>0.012</td>\n",
              "      <td>-0.111</td>\n",
              "      <td>-0.425</td>\n",
              "      <td>-0.664</td>\n",
              "      <td>-0.991</td>\n",
              "      <td>-0.258</td>\n",
              "      <td>-0.224</td>\n",
              "      <td>-0.044</td>\n",
              "    </tr>\n",
              "    <tr>\n",
              "      <th>floors</th>\n",
              "      <td>-0.193</td>\n",
              "      <td>-0.018</td>\n",
              "      <td>-0.756</td>\n",
              "      <td>1.905</td>\n",
              "      <td>0.013</td>\n",
              "      <td>-0.041</td>\n",
              "      <td>0.141</td>\n",
              "      <td>-0.364</td>\n",
              "      <td>0.706</td>\n",
              "      <td>-0.332</td>\n",
              "      <td>-0.057</td>\n",
              "      <td>0.245</td>\n",
              "      <td>0.117</td>\n",
              "    </tr>\n",
              "    <tr>\n",
              "      <th>waterfront</th>\n",
              "      <td>-0.386</td>\n",
              "      <td>0.030</td>\n",
              "      <td>0.055</td>\n",
              "      <td>0.013</td>\n",
              "      <td>1.256</td>\n",
              "      <td>-0.458</td>\n",
              "      <td>-0.002</td>\n",
              "      <td>0.207</td>\n",
              "      <td>0.065</td>\n",
              "      <td>-0.135</td>\n",
              "      <td>-0.062</td>\n",
              "      <td>0.084</td>\n",
              "      <td>-0.010</td>\n",
              "    </tr>\n",
              "    <tr>\n",
              "      <th>view</th>\n",
              "      <td>-0.233</td>\n",
              "      <td>0.123</td>\n",
              "      <td>0.012</td>\n",
              "      <td>-0.041</td>\n",
              "      <td>-0.458</td>\n",
              "      <td>1.424</td>\n",
              "      <td>-0.000</td>\n",
              "      <td>-0.056</td>\n",
              "      <td>-0.262</td>\n",
              "      <td>0.125</td>\n",
              "      <td>-0.030</td>\n",
              "      <td>-0.210</td>\n",
              "      <td>-0.034</td>\n",
              "    </tr>\n",
              "    <tr>\n",
              "      <th>condition</th>\n",
              "      <td>-0.086</td>\n",
              "      <td>-0.060</td>\n",
              "      <td>-0.111</td>\n",
              "      <td>0.141</td>\n",
              "      <td>-0.002</td>\n",
              "      <td>-0.000</td>\n",
              "      <td>1.224</td>\n",
              "      <td>0.037</td>\n",
              "      <td>-0.073</td>\n",
              "      <td>0.443</td>\n",
              "      <td>0.196</td>\n",
              "      <td>0.060</td>\n",
              "      <td>-0.023</td>\n",
              "    </tr>\n",
              "    <tr>\n",
              "      <th>grade</th>\n",
              "      <td>-1.326</td>\n",
              "      <td>0.011</td>\n",
              "      <td>-0.425</td>\n",
              "      <td>-0.364</td>\n",
              "      <td>0.207</td>\n",
              "      <td>-0.056</td>\n",
              "      <td>0.037</td>\n",
              "      <td>3.433</td>\n",
              "      <td>0.001</td>\n",
              "      <td>-0.703</td>\n",
              "      <td>-0.030</td>\n",
              "      <td>-1.100</td>\n",
              "      <td>-0.018</td>\n",
              "    </tr>\n",
              "    <tr>\n",
              "      <th>sqft_basement</th>\n",
              "      <td>-0.261</td>\n",
              "      <td>-0.237</td>\n",
              "      <td>-0.664</td>\n",
              "      <td>0.706</td>\n",
              "      <td>0.065</td>\n",
              "      <td>-0.262</td>\n",
              "      <td>-0.073</td>\n",
              "      <td>0.001</td>\n",
              "      <td>1.603</td>\n",
              "      <td>0.183</td>\n",
              "      <td>0.010</td>\n",
              "      <td>0.098</td>\n",
              "      <td>0.053</td>\n",
              "    </tr>\n",
              "    <tr>\n",
              "      <th>yr_built</th>\n",
              "      <td>0.837</td>\n",
              "      <td>0.195</td>\n",
              "      <td>-0.991</td>\n",
              "      <td>-0.332</td>\n",
              "      <td>-0.135</td>\n",
              "      <td>0.125</td>\n",
              "      <td>0.443</td>\n",
              "      <td>-0.703</td>\n",
              "      <td>0.183</td>\n",
              "      <td>2.249</td>\n",
              "      <td>0.472</td>\n",
              "      <td>-0.153</td>\n",
              "      <td>-0.050</td>\n",
              "    </tr>\n",
              "    <tr>\n",
              "      <th>yr_renovated</th>\n",
              "      <td>-0.034</td>\n",
              "      <td>0.036</td>\n",
              "      <td>-0.258</td>\n",
              "      <td>-0.057</td>\n",
              "      <td>-0.062</td>\n",
              "      <td>-0.030</td>\n",
              "      <td>0.196</td>\n",
              "      <td>-0.030</td>\n",
              "      <td>0.010</td>\n",
              "      <td>0.472</td>\n",
              "      <td>1.144</td>\n",
              "      <td>0.073</td>\n",
              "      <td>-0.024</td>\n",
              "    </tr>\n",
              "    <tr>\n",
              "      <th>sqft_living15</th>\n",
              "      <td>-0.449</td>\n",
              "      <td>-0.316</td>\n",
              "      <td>-0.224</td>\n",
              "      <td>0.245</td>\n",
              "      <td>0.084</td>\n",
              "      <td>-0.210</td>\n",
              "      <td>0.060</td>\n",
              "      <td>-1.100</td>\n",
              "      <td>0.098</td>\n",
              "      <td>-0.153</td>\n",
              "      <td>0.073</td>\n",
              "      <td>2.360</td>\n",
              "      <td>-0.211</td>\n",
              "    </tr>\n",
              "    <tr>\n",
              "      <th>sqft_lot15</th>\n",
              "      <td>0.033</td>\n",
              "      <td>0.047</td>\n",
              "      <td>-0.044</td>\n",
              "      <td>0.117</td>\n",
              "      <td>-0.010</td>\n",
              "      <td>-0.034</td>\n",
              "      <td>-0.023</td>\n",
              "      <td>-0.018</td>\n",
              "      <td>0.053</td>\n",
              "      <td>-0.050</td>\n",
              "      <td>-0.024</td>\n",
              "      <td>-0.211</td>\n",
              "      <td>1.047</td>\n",
              "    </tr>\n",
              "  </tbody>\n",
              "</table>\n",
              "</div>"
            ],
            "text/plain": [
              "               price  bedrooms  ...  sqft_living15  sqft_lot15\n",
              "price          2.678     0.096  ...         -0.449       0.033\n",
              "bedrooms       0.096     1.522  ...         -0.316       0.047\n",
              "bathrooms     -0.516    -0.745  ...         -0.224      -0.044\n",
              "floors        -0.193    -0.018  ...          0.245       0.117\n",
              "waterfront    -0.386     0.030  ...          0.084      -0.010\n",
              "view          -0.233     0.123  ...         -0.210      -0.034\n",
              "condition     -0.086    -0.060  ...          0.060      -0.023\n",
              "grade         -1.326     0.011  ...         -1.100      -0.018\n",
              "sqft_basement -0.261    -0.237  ...          0.098       0.053\n",
              "yr_built       0.837     0.195  ...         -0.153      -0.050\n",
              "yr_renovated  -0.034     0.036  ...          0.073      -0.024\n",
              "sqft_living15 -0.449    -0.316  ...          2.360      -0.211\n",
              "sqft_lot15     0.033     0.047  ...         -0.211       1.047\n",
              "\n",
              "[13 rows x 13 columns]"
            ]
          },
          "metadata": {
            "tags": []
          },
          "execution_count": 225
        }
      ]
    },
    {
      "cell_type": "markdown",
      "metadata": {
        "id": "d_g873xhO7cJ",
        "colab_type": "text"
      },
      "source": [
        "The VIF score for each variable is found alongside the downwards sloping diagonal\n",
        "The VIF is < 5 therefore our variables are not highly correlated.We can work with it a it is"
      ]
    },
    {
      "cell_type": "markdown",
      "metadata": {
        "id": "MUq3qr2njvnB",
        "colab_type": "text"
      },
      "source": [
        "###Residual plots"
      ]
    },
    {
      "cell_type": "code",
      "metadata": {
        "id": "z2I06xIhkCkN",
        "colab_type": "code",
        "colab": {
          "base_uri": "https://localhost:8080/",
          "height": 34
        },
        "outputId": "22a5c277-af5f-4003-e80e-74d8f2a03047"
      },
      "source": [
        "# We now create the residual by substracting the test value from the predicted \n",
        "# value for each row in our dataset\n",
        "\n",
        "residuals = np.subtract(y_pred, y_test)\n",
        "\n",
        "# Let's describe our residual:\n",
        "pd.DataFrame(residuals).describe()\n",
        "\n",
        "residuals.mean()"
      ],
      "execution_count": 226,
      "outputs": [
        {
          "output_type": "execute_result",
          "data": {
            "text/plain": [
              "0.0043245282507030185"
            ]
          },
          "metadata": {
            "tags": []
          },
          "execution_count": 226
        }
      ]
    },
    {
      "cell_type": "code",
      "metadata": {
        "id": "k6soz3bLONFF",
        "colab_type": "code",
        "colab": {
          "base_uri": "https://localhost:8080/",
          "height": 502
        },
        "outputId": "867b3f9d-c26a-4c78-b1c1-9a9182d209fb"
      },
      "source": [
        "plt.scatter(y_pred, residuals, color='black')\n",
        "plt.ylabel('residual')\n",
        "plt.xlabel('fitted values')\n",
        "plt.axhline(y= residuals.mean(), color='red', linewidth=1)\n",
        "plt.show()"
      ],
      "execution_count": 227,
      "outputs": [
        {
          "output_type": "display_data",
          "data": {
            "image/png": "[encoded data removed]",
            "text/plain": [
              "<Figure size 720x576 with 1 Axes>"
            ]
          },
          "metadata": {
            "tags": []
          }
        }
      ]
    },
    {
      "cell_type": "markdown",
      "metadata": {
        "id": "e9x6tTMxeLri",
        "colab_type": "text"
      },
      "source": [
        "This data set is probably not a good fit for regression.\n",
        "This plot shows heteroscedasticity\n",
        "This could be as a result of the outliers"
      ]
    },
    {
      "cell_type": "markdown",
      "metadata": {
        "id": "g8S1yv5TlNzD",
        "colab_type": "text"
      },
      "source": [
        "###Heteroscedasticity"
      ]
    },
    {
      "cell_type": "code",
      "metadata": {
        "id": "D57R0yjviSWU",
        "colab_type": "code",
        "colab": {}
      },
      "source": [
        "test_result, p_value = sp.stats.bartlett(y_pred, residuals)\n",
        "\n",
        "# To interpret the results we must also compute a critical value of the chi squared distribution\n",
        "degree_of_freedom = len(y_pred)-1\n",
        "probability = 1 - p_value\n",
        "\n",
        "critical_value = sp.stats.chi2.ppf(probability, degree_of_freedom)\n",
        "print(critical_value)\n",
        "\n",
        "# If the test_result is greater than the critical value, then we reject our null\n",
        "# hypothesis. This would mean that there are patterns to the variance of the data\n",
        "\n",
        "# Otherwise, we can identify no patterns, and we accept the null hypothesis that \n",
        "# the variance is homogeneous across our data\n",
        "\n",
        "if (test_result > critical_value):\n",
        "  print('the variances are unequal, and the model should be reassessed')\n",
        "else:\n",
        "  print('the variances are homogeneous!')\n",
        "\n"
      ],
      "execution_count": 0,
      "outputs": []
    },
    {
      "cell_type": "markdown",
      "metadata": {
        "id": "Vs9hGNwWmOWM",
        "colab_type": "text"
      },
      "source": [
        "##Quantile Regression"
      ]
    },
    {
      "cell_type": "code",
      "metadata": {
        "id": "Iuh-SN0R_HDc",
        "colab_type": "code",
        "colab": {}
      },
      "source": [
        "#CREATE OUR FEATURES\n",
        "X = houses.drop('price', 1)\n",
        "y = np.log(houses['price'])"
      ],
      "execution_count": 0,
      "outputs": []
    },
    {
      "cell_type": "code",
      "metadata": {
        "id": "AmthIMq-_NEs",
        "colab_type": "code",
        "colab": {}
      },
      "source": [
        "#perform a train and a test for the model\n",
        "X_train, X_test, y_train, y_test = train_test_split(X, y, test_size=0.2, random_state=50)"
      ],
      "execution_count": 0,
      "outputs": []
    },
    {
      "cell_type": "code",
      "metadata": {
        "id": "PovlYcMR_Xwx",
        "colab_type": "code",
        "colab": {}
      },
      "source": [
        "# Finding the regression coefficients for the conditioned median, 0.5 quantile\n",
        "\n",
        "mod = smf.quantreg('y ~ X', houses)\n",
        "res = mod.fit(q=.5)\n",
        "\n",
        "# Then print out the summary of our model\n",
        "#\n",
        "print(res.summary())"
      ],
      "execution_count": 0,
      "outputs": []
    },
    {
      "cell_type": "code",
      "metadata": {
        "id": "krNBeNDyElQz",
        "colab_type": "code",
        "colab": {}
      },
      "source": [
        "houses.dtypes"
      ],
      "execution_count": 0,
      "outputs": []
    },
    {
      "cell_type": "code",
      "metadata": {
        "id": "dq1p58L8F2Mk",
        "colab_type": "code",
        "colab": {}
      },
      "source": [
        "cols = houses.columns[houses.dtypes.eq('object')]\n",
        "cols"
      ],
      "execution_count": 0,
      "outputs": []
    },
    {
      "cell_type": "code",
      "metadata": {
        "id": "W-wFdwRwGkFT",
        "colab_type": "code",
        "colab": {}
      },
      "source": [
        "cols = houses.columns\n",
        "houses[cols] = houses[cols].apply(pd.to_numeric, errors='coerce', axis=1)"
      ],
      "execution_count": 0,
      "outputs": []
    },
    {
      "cell_type": "code",
      "metadata": {
        "id": "KN6pfGBmDmhi",
        "colab_type": "code",
        "colab": {}
      },
      "source": [
        "##  we can do the models for other quantiles\n",
        "# \n",
        "quantiles = np.arange(0.1,1,0.1) \n",
        "models = []\n",
        "params = []\n",
        "\n",
        "# We build models for each quantile in our list quantiles inside a for loop\n",
        "# As we build these models we also store the model parameters in a list called params. \n",
        "for qt in quantiles: \n",
        "\tres = mod.fit(q = qt )\n",
        "\tmodels.append(res)\n",
        "\tparams.append([qt, res.params['Intercept'], res.params['X']] + res.conf_int().loc['X'].tolist())\n",
        "\n",
        "# Lastly we make a dataframe of the same name, so we we can view our different models.\n",
        "params = pd.DataFrame(data = params, columns = ['qt', 'intercept', 'x_coef', 'cf_lower_bound', 'cf_upper_bound'])\n",
        "print(params)"
      ],
      "execution_count": 0,
      "outputs": []
    },
    {
      "cell_type": "markdown",
      "metadata": {
        "id": "xm--gAS_mWlu",
        "colab_type": "text"
      },
      "source": [
        "##Ridge Regression"
      ]
    },
    {
      "cell_type": "markdown",
      "metadata": {
        "id": "u8HNOz8mfASh",
        "colab_type": "text"
      },
      "source": [
        "Due to absence of Mutlicollinearity,we shall consider using this regression"
      ]
    },
    {
      "cell_type": "code",
      "metadata": {
        "id": "d6_0k375lmqA",
        "colab_type": "code",
        "colab": {}
      },
      "source": [
        "#create the features \n",
        "X = houses.drop('price', 1)\n",
        "y = np.log(houses['price'])"
      ],
      "execution_count": 0,
      "outputs": []
    },
    {
      "cell_type": "code",
      "metadata": {
        "id": "Yfoo38yR7MTU",
        "colab_type": "code",
        "colab": {}
      },
      "source": [
        "#perform a train and a test for the model\n",
        "X_train, X_test, y_train, y_test = train_test_split(X, y, test_size=0.2, random_state=50)"
      ],
      "execution_count": 0,
      "outputs": []
    },
    {
      "cell_type": "code",
      "metadata": {
        "id": "mcLsb2Uzzdtt",
        "colab_type": "code",
        "colab": {}
      },
      "source": [
        "ridge = Ridge(normalize=True)\n",
        "search = GridSearchCV(estimator=ridge,param_grid={'alpha':np.logspace(-5,2,8)},scoring='neg_mean_squared_error',n_jobs=1,refit=True,cv=10)"
      ],
      "execution_count": 0,
      "outputs": []
    },
    {
      "cell_type": "code",
      "metadata": {
        "id": "beRAFyu31Ldf",
        "colab_type": "code",
        "colab": {
          "base_uri": "https://localhost:8080/",
          "height": 34
        },
        "outputId": "ce36ca04-4662-43ef-ca2d-3b7d76aa34b6"
      },
      "source": [
        "#determine the strength of the model using best params and best score\n",
        "search.fit(X_train,y_train)\n",
        "search.best_params_\n",
        "#{'alpha': 0.001}\n",
        "abs(search.best_score_) \n"
      ],
      "execution_count": 232,
      "outputs": [
        {
          "output_type": "execute_result",
          "data": {
            "text/plain": [
              "0.09756960916924473"
            ]
          },
          "metadata": {
            "tags": []
          },
          "execution_count": 232
        }
      ]
    },
    {
      "cell_type": "markdown",
      "metadata": {
        "id": "GrxbBRr51xfb",
        "colab_type": "text"
      },
      "source": [
        "The params has choosen its alpha as 0.001 for this model\n",
        "\n",
        "Best score == MSE"
      ]
    },
    {
      "cell_type": "code",
      "metadata": {
        "id": "ZpK7jCxj4dva",
        "colab_type": "code",
        "colab": {
          "base_uri": "https://localhost:8080/",
          "height": 34
        },
        "outputId": "9bc5be05-d545-4da7-9c6a-c6670a045e84"
      },
      "source": [
        "ridge = Ridge(normalize=True,alpha=0.001)\n",
        "ridge.fit(X_train,y_train)\n",
        "second_model = (mean_squared_error(y_true=y,y_pred=ridge.predict(X)))\n",
        "print(second_model)"
      ],
      "execution_count": 235,
      "outputs": [
        {
          "output_type": "stream",
          "text": [
            "0.09728386942228066\n"
          ],
          "name": "stdout"
        }
      ]
    },
    {
      "cell_type": "code",
      "metadata": {
        "id": "klKIDewM5bDx",
        "colab_type": "code",
        "colab": {
          "base_uri": "https://localhost:8080/",
          "height": 221
        },
        "outputId": "9d57399f-40b8-4c39-e3a1-5c20b152050c"
      },
      "source": [
        "coef_dict_baseline = {}\n",
        "for coef, feat in zip(ridge.coef_,houses.columns):\n",
        "    coef_dict_baseline[feat] = coef\n",
        "coef_dict_baseline\n",
        "\n",
        "# The coefficient values are about the same. This means that the penalization made little difference with this dataset."
      ],
      "execution_count": 236,
      "outputs": [
        {
          "output_type": "execute_result",
          "data": {
            "text/plain": [
              "{'bathrooms': 0.13076762018658097,\n",
              " 'bedrooms': 0.10996546434603216,\n",
              " 'condition': 0.22843450287799766,\n",
              " 'floors': 0.35051698191574715,\n",
              " 'grade': 0.00012830758498806046,\n",
              " 'price': -0.005542556668168151,\n",
              " 'sqft_basement': -0.005645243743371993,\n",
              " 'sqft_living15': -5.524905743740848e-08,\n",
              " 'view': 0.044962965172245004,\n",
              " 'waterfront': 0.039961485016373005,\n",
              " 'yr_built': 1.5371072856191958e-05,\n",
              " 'yr_renovated': 0.00015118018655490415}"
            ]
          },
          "metadata": {
            "tags": []
          },
          "execution_count": 236
        }
      ]
    },
    {
      "cell_type": "markdown",
      "metadata": {
        "id": "IL73JnlmfsHS",
        "colab_type": "text"
      },
      "source": [
        "The number of floors has a large impact on the response variable followed by the year built followed by the number of bedrooms "
      ]
    },
    {
      "cell_type": "markdown",
      "metadata": {
        "id": "OX4PEwWEmfMf",
        "colab_type": "text"
      },
      "source": [
        "##Lasso Regression"
      ]
    },
    {
      "cell_type": "code",
      "metadata": {
        "id": "8f0wNg8gpYGE",
        "colab_type": "code",
        "colab": {}
      },
      "source": [
        "#create the features \n",
        "X = houses.drop('price', 1)\n",
        "y = np.log(houses['price'])"
      ],
      "execution_count": 0,
      "outputs": []
    },
    {
      "cell_type": "code",
      "metadata": {
        "id": "_-rvtoU0pg5o",
        "colab_type": "code",
        "colab": {}
      },
      "source": [
        "# Scaling data \n",
        "scaler = StandardScaler()\n",
        "scaler.fit(X)\n",
        "X = scaler.transform(X)"
      ],
      "execution_count": 0,
      "outputs": []
    },
    {
      "cell_type": "code",
      "metadata": {
        "id": "1MxgSRvVpl6v",
        "colab_type": "code",
        "colab": {}
      },
      "source": [
        "# Creating lasso object\n",
        "lasso = linear_model.Lasso() \n",
        "\n",
        "# Fitting the models\n",
        "lasso.fit(X, y) \n",
        "\n",
        "# Print scores, MSE, and coefficients\n",
        "# \n",
        "print(\"lasso score:\", lasso.score(X, y)) \n",
        "print(\"lasso MSE:\", mean_squared_error(y, lasso.predict(X))) \n",
        "print(\"lasso coef:\", lasso.coef_) "
      ],
      "execution_count": 0,
      "outputs": []
    },
    {
      "cell_type": "code",
      "metadata": {
        "id": "FxOAPCyqpyUt",
        "colab_type": "code",
        "colab": {}
      },
      "source": [
        "#Splitting the data into training and test sets and choose your parameters with GridSearch\n",
        "X_train, X_test, y_train, y_test = train_test_split(X, y, test_size=0.2, random_state=25)\n",
        "parameters = {'alpha': np.concatenate((np.arange(0.1,2,0.1), np.arange(2, 5, 0.5), np.arange(5, 25, 1)))}\n",
        "\n",
        "linear = linear_model.LinearRegression()\n",
        "lasso = linear_model.Lasso() \n",
        "gridlasso = GridSearchCV(lasso, parameters, scoring ='r2') \n",
        "\n",
        "# Fitting models and print the best parameters, R-squared scores, MSE, and coefficients\n",
        "gridlasso.fit(X_train, y_train) \n",
        "linear.fit(X_train, y_train) \n",
        "print(\"lasso best parameters:\", gridlasso.best_params_) \n",
        "print(\"lasso score:\", gridlasso.score(X_test, y_test))\n",
        "print(\"linear score:\", linear.score(X_test, y_test)) \n",
        "print(\"lasso MSE:\", mean_squared_error(y_test, gridlasso.predict(X_test)))\n",
        "print(\"linear MSE:\", mean_squared_error(y_test, linear.predict(X_test))) \n",
        "print(\"lasso best estimator coef:\", gridlasso.best_estimator_.coef_)\n",
        "print(\"linear coef:\", linear.coef_)"
      ],
      "execution_count": 0,
      "outputs": []
    },
    {
      "cell_type": "markdown",
      "metadata": {
        "id": "7D4JVqfVtbF2",
        "colab_type": "text"
      },
      "source": [
        "A model with the highest R-squared score will give us the best parameters."
      ]
    },
    {
      "cell_type": "code",
      "metadata": {
        "id": "3bI0IsditasV",
        "colab_type": "code",
        "colab": {}
      },
      "source": [
        "\n",
        "coefsLasso = [] \n",
        "\n",
        "# Building Lasso for 200 values of alpha and write the coefficients into array\n",
        "# \n",
        "alphasLasso = np.arange (0, 20, 0.1) \n",
        "for i in range(200):\n",
        "    lasso = linear_model.Lasso(alpha=alphasLasso[i])\n",
        "    lasso.fit(X_train, y_train)\n",
        "    coefsLasso.append(lasso.coef_) \n",
        "\n",
        "# Building Lasso coefficient plots\n",
        "# \n",
        "plt.figure(figsize = (16,7))\n",
        "\n",
        "plt.subplot(121)\n",
        "plt.plot(alphasLasso, coefsLasso)\n",
        "plt.title('Lasso coefficients')\n",
        "plt.xlabel('alpha')\n",
        "plt.ylabel('coefs')\n",
        "\n",
        "plt.show()\n",
        "\n",
        "# As we can see, Lasso influences less on the large coefficients, but the small ones Lasso reduces to zeroes. \n",
        "# Therefore Lasso can also be used to determine which features are important \n",
        "# to us and keeps the features that may influence the target variable"
      ],
      "execution_count": 0,
      "outputs": []
    },
    {
      "cell_type": "markdown",
      "metadata": {
        "id": "6ZGdcoTj-E-R",
        "colab_type": "text"
      },
      "source": [
        "##Elastic Net Regression"
      ]
    },
    {
      "cell_type": "markdown",
      "metadata": {
        "id": "4vWe3Y8_JtE6",
        "colab_type": "text"
      },
      "source": [
        "This regression implements both the Lasso and Ridge Regression"
      ]
    },
    {
      "cell_type": "code",
      "metadata": {
        "id": "xaErv9BQM7dF",
        "colab_type": "code",
        "colab": {}
      },
      "source": [
        "#create the features \n",
        "X = houses.drop('price', 1)\n",
        "y = np.log(houses['price'])"
      ],
      "execution_count": 0,
      "outputs": []
    },
    {
      "cell_type": "code",
      "metadata": {
        "id": "hWzuZ3G3-K5-",
        "colab_type": "code",
        "colab": {}
      },
      "source": [
        "elastic=ElasticNet(normalize=True)\n",
        "search=GridSearchCV(estimator=elastic,param_grid={'alpha':np.logspace(-5,2,8),'l1_ratio':[.2,.4,.6,.8]},scoring='neg_mean_squared_error',n_jobs=1,refit=True,cv=10)"
      ],
      "execution_count": 0,
      "outputs": []
    },
    {
      "cell_type": "code",
      "metadata": {
        "id": "6Lrd0-jXMy0B",
        "colab_type": "code",
        "colab": {}
      },
      "source": [
        "#lets fit the best params and best score\n",
        "search.fit(X,y)\n",
        "search.best_params_\n",
        "abs(search.best_score_)"
      ],
      "execution_count": 0,
      "outputs": []
    },
    {
      "cell_type": "markdown",
      "metadata": {
        "id": "PXcvAUrfPHpp",
        "colab_type": "text"
      },
      "source": [
        "The params chooses 0.00001 as our alpha and a l1_ratio of 0.8\n",
        "\n",
        "The elastic net regression has a MSE OF 0.9834"
      ]
    },
    {
      "cell_type": "code",
      "metadata": {
        "id": "TYBt0rfqM2yl",
        "colab_type": "code",
        "colab": {}
      },
      "source": [
        "elastic=ElasticNet(normalize=True,alpha=1e-05,l1_ratio=0.8)\n",
        "elastic.fit(X,y)\n",
        "second_model=(mean_squared_error(y_true=y,y_pred=elastic.predict(X)))\n",
        "print(second_model)"
      ],
      "execution_count": 0,
      "outputs": []
    },
    {
      "cell_type": "code",
      "metadata": {
        "id": "HLhP011oQVRL",
        "colab_type": "code",
        "colab": {}
      },
      "source": [
        "#COEFFICIENTS\n",
        "coef_dict_baseline = {}\n",
        "for coef, feat in zip(elastic.coef_,X.columns):\n",
        "    coef_dict_baseline[feat] = coef\n",
        "coef_dict_baseline\n"
      ],
      "execution_count": 0,
      "outputs": []
    },
    {
      "cell_type": "markdown",
      "metadata": {
        "id": "EXWiTmhRegOc",
        "colab_type": "text"
      },
      "source": [
        "#Recommendations\n",
        "1. Consider dropping outliers.That way you are more likely to get a better model "
      ]
    }
  ]
}